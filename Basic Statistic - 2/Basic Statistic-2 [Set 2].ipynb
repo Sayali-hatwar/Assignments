{
 "cells": [
  {
   "cell_type": "markdown",
   "id": "26a4500f",
   "metadata": {},
   "source": [
    "# SET-2 DOC"
   ]
  },
  {
   "cell_type": "code",
   "execution_count": 30,
   "id": "0e1ae658",
   "metadata": {},
   "outputs": [],
   "source": [
    "# Importing required libraries\n",
    "import numpy as np\n",
    "import pandas as pd\n",
    "from scipy import stats\n",
    "from scipy.stats import norm"
   ]
  },
  {
   "cell_type": "markdown",
   "id": "e365012f",
   "metadata": {},
   "source": [
    "# Q2\n",
    "\n",
    " The current age (in years) of 400 clerical employees at an insurance claims processing center is normally distributed with mean  = 38 and Standard deviation  =6. For each statement below, please specify True/False. If false, briefly explain why.\n",
    "\n"
   ]
  },
  {
   "cell_type": "markdown",
   "id": "e321c097",
   "metadata": {},
   "source": [
    "# A.\n",
    "\n",
    "More employees at the processing center are older than 44 than between 38 and 44.\n"
   ]
  },
  {
   "cell_type": "code",
   "execution_count": 31,
   "id": "9b2ec8b7",
   "metadata": {},
   "outputs": [
    {
     "data": {
      "text/plain": [
       "0.8413447460685429"
      ]
     },
     "execution_count": 31,
     "metadata": {},
     "output_type": "execute_result"
    }
   ],
   "source": [
    "#P(X<44) ; probability of employee less than 44 age\n",
    "stats.norm.cdf(44,loc=38,scale=6)"
   ]
  },
  {
   "cell_type": "code",
   "execution_count": 32,
   "id": "13f9ae13",
   "metadata": {},
   "outputs": [
    {
     "data": {
      "text/plain": [
       "0.15865525393145707"
      ]
     },
     "execution_count": 32,
     "metadata": {},
     "output_type": "execute_result"
    }
   ],
   "source": [
    "# P(X>44) ; Employees older than 44yr age.\n",
    "Z1 = 1 - stats.norm.cdf(44,loc=38,scale=6)\n",
    "Z1"
   ]
  },
  {
   "cell_type": "code",
   "execution_count": 33,
   "id": "535a1a01",
   "metadata": {},
   "outputs": [
    {
     "data": {
      "text/plain": [
       "0.3413447460685429"
      ]
     },
     "execution_count": 33,
     "metadata": {},
     "output_type": "execute_result"
    }
   ],
   "source": [
    "#P(38<X<44) ; Employees between 38yr and 44yr of age.\n",
    "stats.norm.cdf(44,loc=38,scale=6) - stats.norm.cdf(38,loc=38,scale=6)"
   ]
  },
  {
   "cell_type": "markdown",
   "id": "a53896a5",
   "metadata": {},
   "source": [
    "# B.\t\n",
    "The current age (in years) of 400 clerical employees at an insurance claims processing center is normally distributed with mean  = 38 and Standard deviation  =6. For each statement below, please specify True/False. If false, briefly explain why.\n",
    "\n",
    "A training program for employees under the age of 30 at the center would be expected to attract about 36 employees\n"
   ]
  },
  {
   "cell_type": "code",
   "execution_count": 34,
   "id": "52984255",
   "metadata": {},
   "outputs": [
    {
     "data": {
      "text/plain": [
       "0.09121121972586788"
      ]
     },
     "execution_count": 34,
     "metadata": {},
     "output_type": "execute_result"
    }
   ],
   "source": [
    "# P(X>30); employees under age of 30yr.\n",
    "stats.norm.cdf(30,loc=38,scale=6)"
   ]
  },
  {
   "cell_type": "code",
   "execution_count": 35,
   "id": "7ed43743",
   "metadata": {},
   "outputs": [
    {
     "data": {
      "text/plain": [
       "36.484487890347154"
      ]
     },
     "execution_count": 35,
     "metadata": {},
     "output_type": "execute_result"
    }
   ],
   "source": [
    "# no. of attracted employees\n",
    "400*stats.norm.cdf(30,loc=38,scale=6)"
   ]
  },
  {
   "cell_type": "markdown",
   "id": "38e6456e",
   "metadata": {},
   "source": [
    "# Q4\n",
    "\n",
    "Let X ~ N(100, 202). Find two values, a and b, symmetric about the mean, such that the probability of the random variable taking a value between them is 0.99. \n",
    "\n"
   ]
  },
  {
   "cell_type": "code",
   "execution_count": 36,
   "id": "bbdaf4e2",
   "metadata": {},
   "outputs": [
    {
     "data": {
      "text/plain": [
       "(48.48341392902199, 151.516586070978)"
      ]
     },
     "execution_count": 36,
     "metadata": {},
     "output_type": "execute_result"
    }
   ],
   "source": [
    "stats.norm.interval(0.99,100,20)"
   ]
  },
  {
   "cell_type": "markdown",
   "id": "801a09e2",
   "metadata": {},
   "source": [
    "# Q5\n",
    "\n",
    " Consider a company that has two different divisions. The annual profits from the two divisions are independent and have distributions Profit1 ~ N(5, 32) and Profit2 ~ N(7, 42) respectively. Both the profits are in $ Million. Answer the following questions about the total profit of the company in Rupees. Assume that $1 = Rs. 45"
   ]
  },
  {
   "cell_type": "markdown",
   "id": "4d279b73",
   "metadata": {},
   "source": [
    "# A.\n",
    "\n",
    "Specify a Rupee range (centered on the mean) such that it contains 95% probability for the annual profit of the company."
   ]
  },
  {
   "cell_type": "code",
   "execution_count": 37,
   "id": "4845c489",
   "metadata": {},
   "outputs": [
    {
     "name": "stdout",
     "output_type": "stream",
     "text": [
      "Mean profit is Rs 540 million\n"
     ]
    }
   ],
   "source": [
    "# Mean profit from two division of company = mean1 + mean2\n",
    "mean = 5 + 7\n",
    "print('Mean profit is Rs',mean*45,'million')"
   ]
  },
  {
   "cell_type": "code",
   "execution_count": 38,
   "id": "ddb45359",
   "metadata": {},
   "outputs": [
    {
     "name": "stdout",
     "output_type": "stream",
     "text": [
      "Standard Deviation is Rs 225.0 million\n"
     ]
    }
   ],
   "source": [
    "# Standard deviation for two division of company = SD1 + SD2\n",
    "SD = np.sqrt(9+16)\n",
    "print('Standard Deviation is Rs',SD*45,'million')"
   ]
  },
  {
   "cell_type": "code",
   "execution_count": 40,
   "id": "0dab0664",
   "metadata": {},
   "outputs": [
    {
     "name": "stdout",
     "output_type": "stream",
     "text": [
      "Range is Rs (2.2001800772997306, 21.79981992270027) million $\n",
      "Range is Rs (99.00810347848784, 980.9918965215122) million\n"
     ]
    }
   ],
   "source": [
    "# Ruppe range will be from by using two standard deviation method ie,. for 95% of confidence interval\n",
    "print('Range is Rs',stats.norm.interval(0.95,mean,SD),'million $')\n",
    "print('Range is Rs',stats.norm.interval(0.95,mean*45,SD*45),'million')"
   ]
  },
  {
   "cell_type": "markdown",
   "id": "b69938a1",
   "metadata": {},
   "source": [
    "# B.\t\n",
    "\n",
    "Specify the 5th percentile of profit (in Rupees) for the company"
   ]
  },
  {
   "cell_type": "code",
   "execution_count": 11,
   "id": "5be05a88",
   "metadata": {},
   "outputs": [
    {
     "name": "stdout",
     "output_type": "stream",
     "text": [
      "Mean profit is Rs 540 million\n"
     ]
    }
   ],
   "source": [
    "# Mean profit from two division of company(μ)= mean1 + mean2\n",
    "mean = 5 + 7\n",
    "print('Mean profit is Rs',mean*45,'million')"
   ]
  },
  {
   "cell_type": "code",
   "execution_count": 12,
   "id": "afbe15a5",
   "metadata": {},
   "outputs": [
    {
     "name": "stdout",
     "output_type": "stream",
     "text": [
      "Standard Deviation is Rs 225.0 million\n"
     ]
    }
   ],
   "source": [
    "# Standard deviation for two division of company(σ) = SD1 + SD2\n",
    "SD = np.sqrt(9+16)\n",
    "print('Standard Deviation is Rs',SD*45,'million')"
   ]
  },
  {
   "cell_type": "code",
   "execution_count": 13,
   "id": "0e0bcd12",
   "metadata": {},
   "outputs": [
    {
     "name": "stdout",
     "output_type": "stream",
     "text": [
      "5th percentile of profit 3.7750000000000004 million $\n",
      "5th percentile of profit(in Rupees) 169.87500000000003 million\n"
     ]
    }
   ],
   "source": [
    "# To compute 5th Percentile, we use the formula X=μ + Zσ; wherein from z table, 5 percentile from left side = -1.645\n",
    "# X = μ + Zσ\n",
    "X =mean + (-1.645)*SD\n",
    "print('5th percentile of profit',X,'million $')\n",
    "print('5th percentile of profit(in Rupees)',X*45,'million')"
   ]
  },
  {
   "cell_type": "markdown",
   "id": "325fbac2",
   "metadata": {},
   "source": [
    "# C.\t\n",
    "\n",
    "Which of the two divisions has a larger probability of making a loss in a given year?"
   ]
  },
  {
   "cell_type": "code",
   "execution_count": 14,
   "id": "d1586744",
   "metadata": {},
   "outputs": [
    {
     "data": {
      "text/plain": [
       "0.0477903522728147"
      ]
     },
     "execution_count": 14,
     "metadata": {},
     "output_type": "execute_result"
    }
   ],
   "source": [
    "# Probability of division 1 making loss\n",
    "stats.norm.cdf(0,5,3)"
   ]
  },
  {
   "cell_type": "code",
   "execution_count": 15,
   "id": "86877c76",
   "metadata": {},
   "outputs": [
    {
     "data": {
      "text/plain": [
       "0.040059156863817086"
      ]
     },
     "execution_count": 15,
     "metadata": {},
     "output_type": "execute_result"
    }
   ],
   "source": [
    "# Probability of division 2 making loss\n",
    "stats.norm.cdf(0,7,4)"
   ]
  },
  {
   "cell_type": "markdown",
   "id": "cd1d3493",
   "metadata": {},
   "source": [
    "2st division has less probability , which means 2nd division will maker higher loss."
   ]
  },
  {
   "cell_type": "code",
   "execution_count": null,
   "id": "73d6f1fd",
   "metadata": {},
   "outputs": [],
   "source": []
  }
 ],
 "metadata": {
  "kernelspec": {
   "display_name": "Python 3 (ipykernel)",
   "language": "python",
   "name": "python3"
  },
  "language_info": {
   "codemirror_mode": {
    "name": "ipython",
    "version": 3
   },
   "file_extension": ".py",
   "mimetype": "text/x-python",
   "name": "python",
   "nbconvert_exporter": "python",
   "pygments_lexer": "ipython3",
   "version": "3.9.12"
  }
 },
 "nbformat": 4,
 "nbformat_minor": 5
}
