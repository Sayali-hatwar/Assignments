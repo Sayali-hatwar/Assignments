{
 "cells": [
  {
   "cell_type": "markdown",
   "id": "7ca73f85",
   "metadata": {},
   "source": [
    "# Q7) Calculate Mean, Median, Mode, Variance, Standard Deviation, Range & comment about the values/ draw inferences, for the given dataset For Points,Score,Weigh > Find Mean, Median, Mode, Variance, Standard Deviation, and Range and also Comment about the values/ Draw some inferences.\n",
    "Use Q7.csv file\n"
   ]
  },
  {
   "cell_type": "code",
   "execution_count": 94,
   "id": "d36fb710",
   "metadata": {},
   "outputs": [],
   "source": [
    "# Importing all the required library for given question\n",
    "import numpy as np\n",
    "import pandas as pd"
   ]
  },
  {
   "cell_type": "code",
   "execution_count": 95,
   "id": "66a597f0",
   "metadata": {},
   "outputs": [
    {
     "name": "stdout",
     "output_type": "stream",
     "text": [
      " Volume in drive C is program files\n",
      " Volume Serial Number is 5C10-FCA7\n",
      "\n",
      " Directory of C:\\Users\\Sayali Hatwar\\OneDrive\\Desktop\\Assignment files\\Basic stat level 1 assignment\n",
      "\n",
      "09-01-2023  00:21    <DIR>          .\n",
      "09-01-2023  00:21    <DIR>          ..\n",
      "05-01-2023  00:24    <DIR>          .ipynb_checkpoints\n",
      "05-01-2023  00:48             1,641 Assign 1.csv\n",
      "09-01-2023  00:20            60,424 Assignment 1.docx\n",
      "09-01-2023  00:21            41,117 assignment 1.ipynb\n",
      "08-01-2023  23:59             3,990 Cars.csv\n",
      "12-12-2022  16:50           252,761 Computer_Data.csv\n",
      "07-11-2022  22:43               962 Q7.csv\n",
      "05-01-2023  13:25               502 Q9_a.csv\n",
      "07-01-2023  18:31             2,252 Q9_b.csv\n",
      "15-11-2022  09:34             1,172 wc-at.csv\n",
      "               9 File(s)        364,821 bytes\n",
      "               3 Dir(s)  123,647,152,128 bytes free\n"
     ]
    }
   ],
   "source": [
    "ls"
   ]
  },
  {
   "cell_type": "code",
   "execution_count": 96,
   "id": "4a80ee10",
   "metadata": {},
   "outputs": [
    {
     "data": {
      "text/html": [
       "<div>\n",
       "<style scoped>\n",
       "    .dataframe tbody tr th:only-of-type {\n",
       "        vertical-align: middle;\n",
       "    }\n",
       "\n",
       "    .dataframe tbody tr th {\n",
       "        vertical-align: top;\n",
       "    }\n",
       "\n",
       "    .dataframe thead th {\n",
       "        text-align: right;\n",
       "    }\n",
       "</style>\n",
       "<table border=\"1\" class=\"dataframe\">\n",
       "  <thead>\n",
       "    <tr style=\"text-align: right;\">\n",
       "      <th></th>\n",
       "      <th>Unnamed: 0</th>\n",
       "      <th>Points</th>\n",
       "      <th>Score</th>\n",
       "      <th>Weigh</th>\n",
       "    </tr>\n",
       "  </thead>\n",
       "  <tbody>\n",
       "    <tr>\n",
       "      <th>0</th>\n",
       "      <td>Mazda RX4</td>\n",
       "      <td>3.90</td>\n",
       "      <td>2.620</td>\n",
       "      <td>16.46</td>\n",
       "    </tr>\n",
       "    <tr>\n",
       "      <th>1</th>\n",
       "      <td>Mazda RX4 Wag</td>\n",
       "      <td>3.90</td>\n",
       "      <td>2.875</td>\n",
       "      <td>17.02</td>\n",
       "    </tr>\n",
       "    <tr>\n",
       "      <th>2</th>\n",
       "      <td>Datsun 710</td>\n",
       "      <td>3.85</td>\n",
       "      <td>2.320</td>\n",
       "      <td>18.61</td>\n",
       "    </tr>\n",
       "    <tr>\n",
       "      <th>3</th>\n",
       "      <td>Hornet 4 Drive</td>\n",
       "      <td>3.08</td>\n",
       "      <td>3.215</td>\n",
       "      <td>19.44</td>\n",
       "    </tr>\n",
       "    <tr>\n",
       "      <th>4</th>\n",
       "      <td>Hornet Sportabout</td>\n",
       "      <td>3.15</td>\n",
       "      <td>3.440</td>\n",
       "      <td>17.02</td>\n",
       "    </tr>\n",
       "  </tbody>\n",
       "</table>\n",
       "</div>"
      ],
      "text/plain": [
       "          Unnamed: 0  Points  Score  Weigh\n",
       "0          Mazda RX4    3.90  2.620  16.46\n",
       "1      Mazda RX4 Wag    3.90  2.875  17.02\n",
       "2         Datsun 710    3.85  2.320  18.61\n",
       "3     Hornet 4 Drive    3.08  3.215  19.44\n",
       "4  Hornet Sportabout    3.15  3.440  17.02"
      ]
     },
     "execution_count": 96,
     "metadata": {},
     "output_type": "execute_result"
    }
   ],
   "source": [
    "# Reading csv file with the help of pandas\n",
    "Q7= pd.read_csv('Q7.csv')\n",
    "Q7.head()"
   ]
  },
  {
   "cell_type": "code",
   "execution_count": 97,
   "id": "59e9321b",
   "metadata": {},
   "outputs": [
    {
     "name": "stdout",
     "output_type": "stream",
     "text": [
      "<class 'pandas.core.frame.DataFrame'>\n",
      "RangeIndex: 32 entries, 0 to 31\n",
      "Data columns (total 4 columns):\n",
      " #   Column      Non-Null Count  Dtype  \n",
      "---  ------      --------------  -----  \n",
      " 0   Unnamed: 0  32 non-null     object \n",
      " 1   Points      32 non-null     float64\n",
      " 2   Score       32 non-null     float64\n",
      " 3   Weigh       32 non-null     float64\n",
      "dtypes: float64(3), object(1)\n",
      "memory usage: 1.1+ KB\n"
     ]
    }
   ],
   "source": [
    "# information about Q7.csv file\n",
    "Q7.info()"
   ]
  },
  {
   "cell_type": "code",
   "execution_count": 98,
   "id": "c0182cb6",
   "metadata": {},
   "outputs": [
    {
     "data": {
      "text/html": [
       "<div>\n",
       "<style scoped>\n",
       "    .dataframe tbody tr th:only-of-type {\n",
       "        vertical-align: middle;\n",
       "    }\n",
       "\n",
       "    .dataframe tbody tr th {\n",
       "        vertical-align: top;\n",
       "    }\n",
       "\n",
       "    .dataframe thead th {\n",
       "        text-align: right;\n",
       "    }\n",
       "</style>\n",
       "<table border=\"1\" class=\"dataframe\">\n",
       "  <thead>\n",
       "    <tr style=\"text-align: right;\">\n",
       "      <th></th>\n",
       "      <th>Points</th>\n",
       "      <th>Score</th>\n",
       "      <th>Weigh</th>\n",
       "    </tr>\n",
       "  </thead>\n",
       "  <tbody>\n",
       "    <tr>\n",
       "      <th>count</th>\n",
       "      <td>32.000000</td>\n",
       "      <td>32.000000</td>\n",
       "      <td>32.000000</td>\n",
       "    </tr>\n",
       "    <tr>\n",
       "      <th>mean</th>\n",
       "      <td>3.596563</td>\n",
       "      <td>3.217250</td>\n",
       "      <td>17.848750</td>\n",
       "    </tr>\n",
       "    <tr>\n",
       "      <th>std</th>\n",
       "      <td>0.534679</td>\n",
       "      <td>0.978457</td>\n",
       "      <td>1.786943</td>\n",
       "    </tr>\n",
       "    <tr>\n",
       "      <th>min</th>\n",
       "      <td>2.760000</td>\n",
       "      <td>1.513000</td>\n",
       "      <td>14.500000</td>\n",
       "    </tr>\n",
       "    <tr>\n",
       "      <th>25%</th>\n",
       "      <td>3.080000</td>\n",
       "      <td>2.581250</td>\n",
       "      <td>16.892500</td>\n",
       "    </tr>\n",
       "    <tr>\n",
       "      <th>50%</th>\n",
       "      <td>3.695000</td>\n",
       "      <td>3.325000</td>\n",
       "      <td>17.710000</td>\n",
       "    </tr>\n",
       "    <tr>\n",
       "      <th>75%</th>\n",
       "      <td>3.920000</td>\n",
       "      <td>3.610000</td>\n",
       "      <td>18.900000</td>\n",
       "    </tr>\n",
       "    <tr>\n",
       "      <th>max</th>\n",
       "      <td>4.930000</td>\n",
       "      <td>5.424000</td>\n",
       "      <td>22.900000</td>\n",
       "    </tr>\n",
       "  </tbody>\n",
       "</table>\n",
       "</div>"
      ],
      "text/plain": [
       "          Points      Score      Weigh\n",
       "count  32.000000  32.000000  32.000000\n",
       "mean    3.596563   3.217250  17.848750\n",
       "std     0.534679   0.978457   1.786943\n",
       "min     2.760000   1.513000  14.500000\n",
       "25%     3.080000   2.581250  16.892500\n",
       "50%     3.695000   3.325000  17.710000\n",
       "75%     3.920000   3.610000  18.900000\n",
       "max     4.930000   5.424000  22.900000"
      ]
     },
     "execution_count": 98,
     "metadata": {},
     "output_type": "execute_result"
    }
   ],
   "source": [
    "# description of Q7.csv file\n",
    "Q7.describe()"
   ]
  },
  {
   "cell_type": "code",
   "execution_count": 99,
   "id": "43fa1aa5",
   "metadata": {},
   "outputs": [
    {
     "data": {
      "text/plain": [
       "3.5965625000000006"
      ]
     },
     "execution_count": 99,
     "metadata": {},
     "output_type": "execute_result"
    }
   ],
   "source": [
    "# Calculating mean for Points\n",
    "Q7['Points'].mean()"
   ]
  },
  {
   "cell_type": "code",
   "execution_count": 100,
   "id": "1ca305e5",
   "metadata": {},
   "outputs": [
    {
     "data": {
      "text/plain": [
       "3.6950000000000003"
      ]
     },
     "execution_count": 100,
     "metadata": {},
     "output_type": "execute_result"
    }
   ],
   "source": [
    "# Calculating median for Points\n",
    "Q7['Points'].median()"
   ]
  },
  {
   "cell_type": "code",
   "execution_count": 101,
   "id": "177935d6",
   "metadata": {},
   "outputs": [
    {
     "data": {
      "text/plain": [
       "0    3.07\n",
       "1    3.92\n",
       "Name: Points, dtype: float64"
      ]
     },
     "execution_count": 101,
     "metadata": {},
     "output_type": "execute_result"
    }
   ],
   "source": [
    "# Calculating mode for Points\n",
    "Q7['Points'].mode()"
   ]
  },
  {
   "cell_type": "code",
   "execution_count": 102,
   "id": "40e7c079",
   "metadata": {},
   "outputs": [
    {
     "data": {
      "text/plain": [
       "0.5346787360709716"
      ]
     },
     "execution_count": 102,
     "metadata": {},
     "output_type": "execute_result"
    }
   ],
   "source": [
    "# Calculating standard deviation for Points\n",
    "Q7['Points'].std()"
   ]
  },
  {
   "cell_type": "code",
   "execution_count": 103,
   "id": "df47a519",
   "metadata": {},
   "outputs": [
    {
     "data": {
      "text/plain": [
       "0.28588135080645166"
      ]
     },
     "execution_count": 103,
     "metadata": {},
     "output_type": "execute_result"
    }
   ],
   "source": [
    "# Calculating variance for points\n",
    "Q7['Points'].var()"
   ]
  },
  {
   "cell_type": "code",
   "execution_count": 104,
   "id": "02b25b47",
   "metadata": {},
   "outputs": [
    {
     "data": {
      "text/plain": [
       "2.76"
      ]
     },
     "execution_count": 104,
     "metadata": {},
     "output_type": "execute_result"
    }
   ],
   "source": [
    "# Calculating minimum value of Range\n",
    "Q7['Points'].min()"
   ]
  },
  {
   "cell_type": "code",
   "execution_count": 105,
   "id": "e97c54f2",
   "metadata": {},
   "outputs": [
    {
     "data": {
      "text/plain": [
       "4.93"
      ]
     },
     "execution_count": 105,
     "metadata": {},
     "output_type": "execute_result"
    }
   ],
   "source": [
    "# Calculating maximum value of Range\n",
    "Q7['Points'].max()"
   ]
  },
  {
   "cell_type": "code",
   "execution_count": 106,
   "id": "a9a3bc2a",
   "metadata": {},
   "outputs": [
    {
     "data": {
      "text/plain": [
       "3.2172499999999995"
      ]
     },
     "execution_count": 106,
     "metadata": {},
     "output_type": "execute_result"
    }
   ],
   "source": [
    "# Calculating mean for Score\n",
    "Q7['Score'].mean()"
   ]
  },
  {
   "cell_type": "code",
   "execution_count": 107,
   "id": "00ac5623",
   "metadata": {},
   "outputs": [
    {
     "data": {
      "text/plain": [
       "3.325"
      ]
     },
     "execution_count": 107,
     "metadata": {},
     "output_type": "execute_result"
    }
   ],
   "source": [
    "# Calculating median for Score\n",
    "Q7['Score'].median()"
   ]
  },
  {
   "cell_type": "code",
   "execution_count": 108,
   "id": "d334c249",
   "metadata": {},
   "outputs": [
    {
     "data": {
      "text/plain": [
       "0    3.44\n",
       "Name: Score, dtype: float64"
      ]
     },
     "execution_count": 108,
     "metadata": {},
     "output_type": "execute_result"
    }
   ],
   "source": [
    "# Calculating mode for Score\n",
    "Q7['Score'].mode()"
   ]
  },
  {
   "cell_type": "code",
   "execution_count": 109,
   "id": "b7e6c296",
   "metadata": {},
   "outputs": [
    {
     "data": {
      "text/plain": [
       "0.9784574429896967"
      ]
     },
     "execution_count": 109,
     "metadata": {},
     "output_type": "execute_result"
    }
   ],
   "source": [
    "# Calculating standard Deviation for Score\n",
    "Q7['Score'].std()"
   ]
  },
  {
   "cell_type": "code",
   "execution_count": 110,
   "id": "88d0e6a1",
   "metadata": {},
   "outputs": [
    {
     "data": {
      "text/plain": [
       "0.9573789677419356"
      ]
     },
     "execution_count": 110,
     "metadata": {},
     "output_type": "execute_result"
    }
   ],
   "source": [
    "# Caculating variance for Score\n",
    "Q7['Score'].var()"
   ]
  },
  {
   "cell_type": "code",
   "execution_count": 111,
   "id": "04fee218",
   "metadata": {},
   "outputs": [
    {
     "data": {
      "text/plain": [
       "5.424"
      ]
     },
     "execution_count": 111,
     "metadata": {},
     "output_type": "execute_result"
    }
   ],
   "source": [
    "# Calculating maximum value of Range\n",
    "Q7['Score'].max()"
   ]
  },
  {
   "cell_type": "code",
   "execution_count": 112,
   "id": "1afec9e9",
   "metadata": {},
   "outputs": [
    {
     "data": {
      "text/plain": [
       "1.513"
      ]
     },
     "execution_count": 112,
     "metadata": {},
     "output_type": "execute_result"
    }
   ],
   "source": [
    "# Calculating minimum value of Range\n",
    "Q7['Score'].min()"
   ]
  },
  {
   "cell_type": "code",
   "execution_count": 113,
   "id": "39c4233a",
   "metadata": {},
   "outputs": [
    {
     "data": {
      "text/plain": [
       "17.848750000000003"
      ]
     },
     "execution_count": 113,
     "metadata": {},
     "output_type": "execute_result"
    }
   ],
   "source": [
    "# Calculating mean for Weigh\n",
    "Q7['Weigh'].mean()"
   ]
  },
  {
   "cell_type": "code",
   "execution_count": 114,
   "id": "95b93cfa",
   "metadata": {},
   "outputs": [
    {
     "data": {
      "text/plain": [
       "17.71"
      ]
     },
     "execution_count": 114,
     "metadata": {},
     "output_type": "execute_result"
    }
   ],
   "source": [
    "# Calculating median for Weigh\n",
    "Q7['Weigh'].median()"
   ]
  },
  {
   "cell_type": "code",
   "execution_count": 115,
   "id": "58e1aca1",
   "metadata": {},
   "outputs": [
    {
     "data": {
      "text/plain": [
       "0    17.02\n",
       "1    18.90\n",
       "Name: Weigh, dtype: float64"
      ]
     },
     "execution_count": 115,
     "metadata": {},
     "output_type": "execute_result"
    }
   ],
   "source": [
    "# Calculating mode for Weigh\n",
    "Q7['Weigh'].mode()"
   ]
  },
  {
   "cell_type": "code",
   "execution_count": 116,
   "id": "76ed0001",
   "metadata": {},
   "outputs": [
    {
     "data": {
      "text/plain": [
       "1.7869432360968431"
      ]
     },
     "execution_count": 116,
     "metadata": {},
     "output_type": "execute_result"
    }
   ],
   "source": [
    "# Calculating standard Deviation for Weigh\n",
    "Q7['Weigh'].std()"
   ]
  },
  {
   "cell_type": "code",
   "execution_count": 117,
   "id": "890c3c47",
   "metadata": {},
   "outputs": [
    {
     "data": {
      "text/plain": [
       "3.193166129032258"
      ]
     },
     "execution_count": 117,
     "metadata": {},
     "output_type": "execute_result"
    }
   ],
   "source": [
    "# Calculating varaiance for Weigh\n",
    "Q7['Weigh'].var()"
   ]
  },
  {
   "cell_type": "code",
   "execution_count": 118,
   "id": "351187c7",
   "metadata": {},
   "outputs": [
    {
     "data": {
      "text/plain": [
       "22.9"
      ]
     },
     "execution_count": 118,
     "metadata": {},
     "output_type": "execute_result"
    }
   ],
   "source": [
    "# Calculating maximum value of Range\n",
    "Q7['Weigh'].max()"
   ]
  },
  {
   "cell_type": "code",
   "execution_count": 119,
   "id": "3a1efe30",
   "metadata": {},
   "outputs": [
    {
     "data": {
      "text/plain": [
       "14.5"
      ]
     },
     "execution_count": 119,
     "metadata": {},
     "output_type": "execute_result"
    }
   ],
   "source": [
    "#Calculating minimum value of Range\n",
    "Q7['Weigh'].min()"
   ]
  },
  {
   "cell_type": "code",
   "execution_count": null,
   "id": "30bcf589",
   "metadata": {},
   "outputs": [],
   "source": []
  },
  {
   "cell_type": "markdown",
   "id": "0453c43b",
   "metadata": {},
   "source": [
    "# Q9) Calculate Skewness, Kurtosis & draw inferences on the following data\n",
    "      Cars speed and distance \n",
    "Use Q9_a.csv"
   ]
  },
  {
   "cell_type": "code",
   "execution_count": 120,
   "id": "a4f5a59e",
   "metadata": {},
   "outputs": [],
   "source": [
    "# Importing all necessary libraries\n",
    "import numpy as np\n",
    "import pandas as pd\n",
    "from scipy.stats import skew\n",
    "from scipy .stats import kurtosis"
   ]
  },
  {
   "cell_type": "code",
   "execution_count": 123,
   "id": "5b70e2a1",
   "metadata": {},
   "outputs": [
    {
     "name": "stdout",
     "output_type": "stream",
     "text": [
      " Volume in drive C is program files\n",
      " Volume Serial Number is 5C10-FCA7\n",
      "\n",
      " Directory of C:\\Users\\Sayali Hatwar\\OneDrive\\Desktop\\Assignment files\\Basic stat level 1 assignment\n",
      "\n",
      "09-01-2023  00:21    <DIR>          .\n",
      "09-01-2023  00:21    <DIR>          ..\n",
      "05-01-2023  00:24    <DIR>          .ipynb_checkpoints\n",
      "05-01-2023  00:48             1,641 Assign 1.csv\n",
      "09-01-2023  00:20            60,424 Assignment 1.docx\n",
      "09-01-2023  00:21            41,117 assignment 1.ipynb\n",
      "08-01-2023  23:59             3,990 Cars.csv\n",
      "12-12-2022  16:50           252,761 Computer_Data.csv\n",
      "07-11-2022  22:43               962 Q7.csv\n",
      "05-01-2023  13:25               502 Q9_a.csv\n",
      "07-01-2023  18:31             2,252 Q9_b.csv\n",
      "15-11-2022  09:34             1,172 wc-at.csv\n",
      "               9 File(s)        364,821 bytes\n",
      "               3 Dir(s)  123,647,000,576 bytes free\n"
     ]
    }
   ],
   "source": [
    "ls "
   ]
  },
  {
   "cell_type": "code",
   "execution_count": 124,
   "id": "ea6ec8da",
   "metadata": {},
   "outputs": [
    {
     "data": {
      "text/html": [
       "<div>\n",
       "<style scoped>\n",
       "    .dataframe tbody tr th:only-of-type {\n",
       "        vertical-align: middle;\n",
       "    }\n",
       "\n",
       "    .dataframe tbody tr th {\n",
       "        vertical-align: top;\n",
       "    }\n",
       "\n",
       "    .dataframe thead th {\n",
       "        text-align: right;\n",
       "    }\n",
       "</style>\n",
       "<table border=\"1\" class=\"dataframe\">\n",
       "  <thead>\n",
       "    <tr style=\"text-align: right;\">\n",
       "      <th></th>\n",
       "      <th>Index</th>\n",
       "      <th>speed</th>\n",
       "      <th>dist</th>\n",
       "    </tr>\n",
       "  </thead>\n",
       "  <tbody>\n",
       "    <tr>\n",
       "      <th>0</th>\n",
       "      <td>1</td>\n",
       "      <td>4</td>\n",
       "      <td>2</td>\n",
       "    </tr>\n",
       "    <tr>\n",
       "      <th>1</th>\n",
       "      <td>2</td>\n",
       "      <td>4</td>\n",
       "      <td>10</td>\n",
       "    </tr>\n",
       "    <tr>\n",
       "      <th>2</th>\n",
       "      <td>3</td>\n",
       "      <td>7</td>\n",
       "      <td>4</td>\n",
       "    </tr>\n",
       "    <tr>\n",
       "      <th>3</th>\n",
       "      <td>4</td>\n",
       "      <td>7</td>\n",
       "      <td>22</td>\n",
       "    </tr>\n",
       "    <tr>\n",
       "      <th>4</th>\n",
       "      <td>5</td>\n",
       "      <td>8</td>\n",
       "      <td>16</td>\n",
       "    </tr>\n",
       "  </tbody>\n",
       "</table>\n",
       "</div>"
      ],
      "text/plain": [
       "   Index  speed  dist\n",
       "0      1      4     2\n",
       "1      2      4    10\n",
       "2      3      7     4\n",
       "3      4      7    22\n",
       "4      5      8    16"
      ]
     },
     "execution_count": 124,
     "metadata": {},
     "output_type": "execute_result"
    }
   ],
   "source": [
    "# Reading Q9.csv file with help of pandas\n",
    "df = pd.read_csv('Q9_a.csv')\n",
    "df.head()"
   ]
  },
  {
   "cell_type": "code",
   "execution_count": 125,
   "id": "72f6a8f0",
   "metadata": {},
   "outputs": [
    {
     "data": {
      "text/plain": [
       "Index    0\n",
       "speed    0\n",
       "dist     0\n",
       "dtype: int64"
      ]
     },
     "execution_count": 125,
     "metadata": {},
     "output_type": "execute_result"
    }
   ],
   "source": [
    "# Checking presence of null values\n",
    "df.isna().sum()"
   ]
  },
  {
   "cell_type": "code",
   "execution_count": 126,
   "id": "ea7e62b4",
   "metadata": {},
   "outputs": [
    {
     "data": {
      "text/plain": [
       "Index    0.000000\n",
       "speed   -0.117510\n",
       "dist     0.806895\n",
       "dtype: float64"
      ]
     },
     "execution_count": 126,
     "metadata": {},
     "output_type": "execute_result"
    }
   ],
   "source": [
    "# Calculating skewness \n",
    "df.skew()"
   ]
  },
  {
   "cell_type": "code",
   "execution_count": 127,
   "id": "f354c0eb",
   "metadata": {},
   "outputs": [
    {
     "data": {
      "text/plain": [
       "Index   -1.200000\n",
       "speed   -0.508994\n",
       "dist     0.405053\n",
       "dtype: float64"
      ]
     },
     "execution_count": 127,
     "metadata": {},
     "output_type": "execute_result"
    }
   ],
   "source": [
    "# Calculating kurtosis\n",
    "df.kurtosis()"
   ]
  },
  {
   "cell_type": "code",
   "execution_count": null,
   "id": "b7cc7659",
   "metadata": {},
   "outputs": [],
   "source": []
  },
  {
   "cell_type": "markdown",
   "id": "41db2fa4",
   "metadata": {},
   "source": [
    "# Use Q9_b.csv file"
   ]
  },
  {
   "cell_type": "code",
   "execution_count": 131,
   "id": "01c06295",
   "metadata": {},
   "outputs": [
    {
     "name": "stdout",
     "output_type": "stream",
     "text": [
      " Volume in drive C is program files\n",
      " Volume Serial Number is 5C10-FCA7\n",
      "\n",
      " Directory of C:\\Users\\Sayali Hatwar\\OneDrive\\Desktop\\Assignment files\\Basic stat level 1 assignment\n",
      "\n",
      "09-01-2023  00:21    <DIR>          .\n",
      "09-01-2023  00:21    <DIR>          ..\n",
      "05-01-2023  00:24    <DIR>          .ipynb_checkpoints\n",
      "05-01-2023  00:48             1,641 Assign 1.csv\n",
      "09-01-2023  00:20            60,424 Assignment 1.docx\n",
      "09-01-2023  00:21            41,117 assignment 1.ipynb\n",
      "08-01-2023  23:59             3,990 Cars.csv\n",
      "12-12-2022  16:50           252,761 Computer_Data.csv\n",
      "07-11-2022  22:43               962 Q7.csv\n",
      "05-01-2023  13:25               502 Q9_a.csv\n",
      "07-01-2023  18:31             2,252 Q9_b.csv\n",
      "15-11-2022  09:34             1,172 wc-at.csv\n",
      "               9 File(s)        364,821 bytes\n",
      "               3 Dir(s)  123,647,000,576 bytes free\n"
     ]
    }
   ],
   "source": [
    "ls"
   ]
  },
  {
   "cell_type": "code",
   "execution_count": 132,
   "id": "11f054b4",
   "metadata": {},
   "outputs": [
    {
     "data": {
      "text/html": [
       "<div>\n",
       "<style scoped>\n",
       "    .dataframe tbody tr th:only-of-type {\n",
       "        vertical-align: middle;\n",
       "    }\n",
       "\n",
       "    .dataframe tbody tr th {\n",
       "        vertical-align: top;\n",
       "    }\n",
       "\n",
       "    .dataframe thead th {\n",
       "        text-align: right;\n",
       "    }\n",
       "</style>\n",
       "<table border=\"1\" class=\"dataframe\">\n",
       "  <thead>\n",
       "    <tr style=\"text-align: right;\">\n",
       "      <th></th>\n",
       "      <th>Unnamed: 0</th>\n",
       "      <th>SP</th>\n",
       "      <th>WT</th>\n",
       "    </tr>\n",
       "  </thead>\n",
       "  <tbody>\n",
       "    <tr>\n",
       "      <th>0</th>\n",
       "      <td>1</td>\n",
       "      <td>104.185353</td>\n",
       "      <td>28.762059</td>\n",
       "    </tr>\n",
       "    <tr>\n",
       "      <th>1</th>\n",
       "      <td>2</td>\n",
       "      <td>105.461264</td>\n",
       "      <td>30.466833</td>\n",
       "    </tr>\n",
       "    <tr>\n",
       "      <th>2</th>\n",
       "      <td>3</td>\n",
       "      <td>105.461264</td>\n",
       "      <td>30.193597</td>\n",
       "    </tr>\n",
       "    <tr>\n",
       "      <th>3</th>\n",
       "      <td>4</td>\n",
       "      <td>113.461264</td>\n",
       "      <td>30.632114</td>\n",
       "    </tr>\n",
       "    <tr>\n",
       "      <th>4</th>\n",
       "      <td>5</td>\n",
       "      <td>104.461264</td>\n",
       "      <td>29.889149</td>\n",
       "    </tr>\n",
       "  </tbody>\n",
       "</table>\n",
       "</div>"
      ],
      "text/plain": [
       "   Unnamed: 0          SP         WT\n",
       "0           1  104.185353  28.762059\n",
       "1           2  105.461264  30.466833\n",
       "2           3  105.461264  30.193597\n",
       "3           4  113.461264  30.632114\n",
       "4           5  104.461264  29.889149"
      ]
     },
     "execution_count": 132,
     "metadata": {},
     "output_type": "execute_result"
    }
   ],
   "source": [
    "# Reading the csv file with the help of pandas\n",
    "gf = pd.read_csv('Q9_b.csv')\n",
    "gf.head()"
   ]
  },
  {
   "cell_type": "code",
   "execution_count": 133,
   "id": "46a21f23",
   "metadata": {},
   "outputs": [
    {
     "data": {
      "text/html": [
       "<div>\n",
       "<style scoped>\n",
       "    .dataframe tbody tr th:only-of-type {\n",
       "        vertical-align: middle;\n",
       "    }\n",
       "\n",
       "    .dataframe tbody tr th {\n",
       "        vertical-align: top;\n",
       "    }\n",
       "\n",
       "    .dataframe thead th {\n",
       "        text-align: right;\n",
       "    }\n",
       "</style>\n",
       "<table border=\"1\" class=\"dataframe\">\n",
       "  <thead>\n",
       "    <tr style=\"text-align: right;\">\n",
       "      <th></th>\n",
       "      <th>Unnamed: 0</th>\n",
       "      <th>SP</th>\n",
       "      <th>WT</th>\n",
       "    </tr>\n",
       "  </thead>\n",
       "  <tbody>\n",
       "    <tr>\n",
       "      <th>count</th>\n",
       "      <td>81.000000</td>\n",
       "      <td>81.000000</td>\n",
       "      <td>81.000000</td>\n",
       "    </tr>\n",
       "    <tr>\n",
       "      <th>mean</th>\n",
       "      <td>41.000000</td>\n",
       "      <td>121.540272</td>\n",
       "      <td>32.412577</td>\n",
       "    </tr>\n",
       "    <tr>\n",
       "      <th>std</th>\n",
       "      <td>23.526581</td>\n",
       "      <td>14.181432</td>\n",
       "      <td>7.492813</td>\n",
       "    </tr>\n",
       "    <tr>\n",
       "      <th>min</th>\n",
       "      <td>1.000000</td>\n",
       "      <td>99.564907</td>\n",
       "      <td>15.712859</td>\n",
       "    </tr>\n",
       "    <tr>\n",
       "      <th>25%</th>\n",
       "      <td>21.000000</td>\n",
       "      <td>113.829145</td>\n",
       "      <td>29.591768</td>\n",
       "    </tr>\n",
       "    <tr>\n",
       "      <th>50%</th>\n",
       "      <td>41.000000</td>\n",
       "      <td>118.208698</td>\n",
       "      <td>32.734518</td>\n",
       "    </tr>\n",
       "    <tr>\n",
       "      <th>75%</th>\n",
       "      <td>61.000000</td>\n",
       "      <td>126.404312</td>\n",
       "      <td>37.392524</td>\n",
       "    </tr>\n",
       "    <tr>\n",
       "      <th>max</th>\n",
       "      <td>81.000000</td>\n",
       "      <td>169.598513</td>\n",
       "      <td>52.997752</td>\n",
       "    </tr>\n",
       "  </tbody>\n",
       "</table>\n",
       "</div>"
      ],
      "text/plain": [
       "       Unnamed: 0          SP         WT\n",
       "count   81.000000   81.000000  81.000000\n",
       "mean    41.000000  121.540272  32.412577\n",
       "std     23.526581   14.181432   7.492813\n",
       "min      1.000000   99.564907  15.712859\n",
       "25%     21.000000  113.829145  29.591768\n",
       "50%     41.000000  118.208698  32.734518\n",
       "75%     61.000000  126.404312  37.392524\n",
       "max     81.000000  169.598513  52.997752"
      ]
     },
     "execution_count": 133,
     "metadata": {},
     "output_type": "execute_result"
    }
   ],
   "source": [
    "# Describing given file\n",
    "gf.describe()"
   ]
  },
  {
   "cell_type": "code",
   "execution_count": 134,
   "id": "34e283ff",
   "metadata": {},
   "outputs": [
    {
     "data": {
      "text/plain": [
       "Unnamed: 0    0.000000\n",
       "SP            1.611450\n",
       "WT           -0.614753\n",
       "dtype: float64"
      ]
     },
     "execution_count": 134,
     "metadata": {},
     "output_type": "execute_result"
    }
   ],
   "source": [
    "# calculating skewness of Q9_b\n",
    "gf.skew()"
   ]
  },
  {
   "cell_type": "code",
   "execution_count": 135,
   "id": "bd42ffb3",
   "metadata": {},
   "outputs": [
    {
     "data": {
      "text/plain": [
       "Unnamed: 0   -1.200000\n",
       "SP            2.977329\n",
       "WT            0.950291\n",
       "dtype: float64"
      ]
     },
     "execution_count": 135,
     "metadata": {},
     "output_type": "execute_result"
    }
   ],
   "source": [
    "# Calculating kurtosis of Q9_b\n",
    "gf.kurtosis()"
   ]
  },
  {
   "cell_type": "code",
   "execution_count": null,
   "id": "dfccc46a",
   "metadata": {},
   "outputs": [],
   "source": []
  },
  {
   "cell_type": "markdown",
   "id": "cae8ac59",
   "metadata": {},
   "source": [
    "# Q11) Suppose we want to estimate the average weight of an adult male in    Mexico. We draw a random sample of 2,000 men from a population of 3,000,000 men and weigh them. We find that the average person in our sample weighs 200 pounds, and the standard deviation of the sample is 30 pounds. Calculate 94%,98%,96% confidence interval?"
   ]
  },
  {
   "cell_type": "code",
   "execution_count": 233,
   "id": "368fdb15",
   "metadata": {},
   "outputs": [
    {
     "name": "stdout",
     "output_type": "stream",
     "text": [
      "t94 is  1.8819\n",
      "t96 is  2.0551\n",
      "t98 is  2.3282\n"
     ]
    }
   ],
   "source": [
    "# Calculating t-value for 94%, 96%, 98% of Confidence interval\n",
    "CP_94=stats.t.ppf(0.97,df=1999)\n",
    "CP_96=stats.t.ppf(0.98,df=1999)\n",
    "CP_98=stats.t.ppf(0.99,df=1999)\n",
    "print('t94 is ',np.round(CP_94,4))\n",
    "print('t96 is ',np.round(CP_96,4))\n",
    "print('t98 is ',np.round(CP_98,4))\n"
   ]
  },
  {
   "cell_type": "code",
   "execution_count": 234,
   "id": "5e36ee7d",
   "metadata": {},
   "outputs": [
    {
     "name": "stdout",
     "output_type": "stream",
     "text": [
      "94% Confidence interval of the data is [143.544 256.456]\n"
     ]
    }
   ],
   "source": [
    "#calculating 94% confidence interval of the given data in the question\n",
    "#mean=200\n",
    "#standart deviation=30\n",
    "#no.of samples = 2000\n",
    "CI1=stats.t.interval(0.94,1999,200,30)\n",
    "print('94% Confidence interval of the data is',np.round(CI1,3))\n"
   ]
  },
  {
   "cell_type": "code",
   "execution_count": 235,
   "id": "f8e68e7b",
   "metadata": {},
   "outputs": [
    {
     "name": "stdout",
     "output_type": "stream",
     "text": [
      "96% Confidence interval of the data is [138.347 261.653]\n"
     ]
    }
   ],
   "source": [
    "# t-score for 96% CI\n",
    "CI2=stats.t.interval(0.96,1999,200,30)\n",
    "print('96% Confidence interval of the data is',np.round(CI2,3))"
   ]
  },
  {
   "cell_type": "code",
   "execution_count": 236,
   "id": "09daaedc",
   "metadata": {},
   "outputs": [
    {
     "name": "stdout",
     "output_type": "stream",
     "text": [
      "98% Confidence interval of the data is [130.154 269.846]\n"
     ]
    }
   ],
   "source": [
    "# t-score for 98% CI\n",
    "CI3=stats.t.interval(0.98,1999,200,30)\n",
    "print('98% Confidence interval of the data is',np.round(CI3,3))"
   ]
  },
  {
   "cell_type": "code",
   "execution_count": null,
   "id": "aa99140d",
   "metadata": {},
   "outputs": [],
   "source": []
  },
  {
   "cell_type": "markdown",
   "id": "be2e7bce",
   "metadata": {},
   "source": [
    "# Q12 Below are the scores obtained by a student in tests \n",
    "34,36,36,38,38,39,39,40,40,41,41,41,41,42,42,45,49,56\n",
    "1)\tFind mean, median, variance, standard deviation\n"
   ]
  },
  {
   "cell_type": "code",
   "execution_count": 136,
   "id": "a23085c9",
   "metadata": {},
   "outputs": [],
   "source": [
    "# Import required libraries\n",
    "import pandas as pd\n",
    "import numpy as np"
   ]
  },
  {
   "cell_type": "code",
   "execution_count": 137,
   "id": "6f4d93ed",
   "metadata": {},
   "outputs": [],
   "source": [
    "# naming the list\n",
    "a = [34,36,36,38,38,39,39,40,40,41,41,41,41,42,42,45,49,56]"
   ]
  },
  {
   "cell_type": "code",
   "execution_count": 138,
   "id": "b4759060",
   "metadata": {},
   "outputs": [
    {
     "data": {
      "text/plain": [
       "41.0"
      ]
     },
     "execution_count": 138,
     "metadata": {},
     "output_type": "execute_result"
    }
   ],
   "source": [
    "# calculating mean\n",
    "np.mean(a)"
   ]
  },
  {
   "cell_type": "code",
   "execution_count": 139,
   "id": "c447c7f4",
   "metadata": {},
   "outputs": [
    {
     "data": {
      "text/plain": [
       "40.5"
      ]
     },
     "execution_count": 139,
     "metadata": {},
     "output_type": "execute_result"
    }
   ],
   "source": [
    "# calculating median\n",
    "np.median(a)"
   ]
  },
  {
   "cell_type": "code",
   "execution_count": 140,
   "id": "1bb8608b",
   "metadata": {},
   "outputs": [
    {
     "data": {
      "text/plain": [
       "24.11111111111111"
      ]
     },
     "execution_count": 140,
     "metadata": {},
     "output_type": "execute_result"
    }
   ],
   "source": [
    "# calculating variance\n",
    "np.var(a)"
   ]
  },
  {
   "cell_type": "code",
   "execution_count": 141,
   "id": "71aa2197",
   "metadata": {},
   "outputs": [
    {
     "data": {
      "text/plain": [
       "4.910306620885412"
      ]
     },
     "execution_count": 141,
     "metadata": {},
     "output_type": "execute_result"
    }
   ],
   "source": [
    "# Calculating standard deviation\n",
    "np.std(a)"
   ]
  },
  {
   "cell_type": "code",
   "execution_count": null,
   "id": "6ee6df9c",
   "metadata": {},
   "outputs": [],
   "source": []
  },
  {
   "cell_type": "markdown",
   "id": "2bc1b28e",
   "metadata": {},
   "source": [
    "# Q 20) Calculate probability from the given dataset for the below cases\n",
    "\n",
    "Data _set: Cars.csv\n",
    "\n",
    "Calculate the probability of MPG of Cars for the below cases.\n",
    "     \n",
    "     MPG <- Cars$ MPG\n",
    "\n",
    "a.\tP(MPG>38)\n",
    "\n",
    "b.\tP(MPG<40)\n",
    "\n",
    "c.  P(20<MPG<50)\n"
   ]
  },
  {
   "cell_type": "code",
   "execution_count": 150,
   "id": "4e86ef86",
   "metadata": {},
   "outputs": [],
   "source": [
    "# Importing necessary libraries\n",
    "import numpy as np\n",
    "import pandas as pd\n",
    "import scipy\n",
    "from scipy import stats"
   ]
  },
  {
   "cell_type": "code",
   "execution_count": 151,
   "id": "803ff07e",
   "metadata": {},
   "outputs": [
    {
     "name": "stdout",
     "output_type": "stream",
     "text": [
      " Volume in drive C is program files\n",
      " Volume Serial Number is 5C10-FCA7\n",
      "\n",
      " Directory of C:\\Users\\Sayali Hatwar\\OneDrive\\Desktop\\Assignment files\\Basic stat level 1 assignment\n",
      "\n",
      "09-01-2023  00:27    <DIR>          .\n",
      "09-01-2023  00:27    <DIR>          ..\n",
      "05-01-2023  00:24    <DIR>          .ipynb_checkpoints\n",
      "05-01-2023  00:48             1,641 Assign 1.csv\n",
      "09-01-2023  00:20            60,424 Assignment 1.docx\n",
      "09-01-2023  00:25            41,386 assignment 1.ipynb\n",
      "09-01-2023  00:27             3,529 Cars.csv\n",
      "12-12-2022  16:50           252,761 Computer_Data.csv\n",
      "07-11-2022  22:43               962 Q7.csv\n",
      "05-01-2023  13:25               502 Q9_a.csv\n",
      "07-01-2023  18:31             2,252 Q9_b.csv\n",
      "15-11-2022  09:34             1,172 wc-at.csv\n",
      "               9 File(s)        364,629 bytes\n",
      "               3 Dir(s)  123,646,636,032 bytes free\n"
     ]
    }
   ],
   "source": [
    "ls"
   ]
  },
  {
   "cell_type": "code",
   "execution_count": 152,
   "id": "42f96d36",
   "metadata": {},
   "outputs": [
    {
     "data": {
      "text/html": [
       "<div>\n",
       "<style scoped>\n",
       "    .dataframe tbody tr th:only-of-type {\n",
       "        vertical-align: middle;\n",
       "    }\n",
       "\n",
       "    .dataframe tbody tr th {\n",
       "        vertical-align: top;\n",
       "    }\n",
       "\n",
       "    .dataframe thead th {\n",
       "        text-align: right;\n",
       "    }\n",
       "</style>\n",
       "<table border=\"1\" class=\"dataframe\">\n",
       "  <thead>\n",
       "    <tr style=\"text-align: right;\">\n",
       "      <th></th>\n",
       "      <th>HP</th>\n",
       "      <th>MPG</th>\n",
       "      <th>VOL</th>\n",
       "      <th>SP</th>\n",
       "      <th>WT</th>\n",
       "    </tr>\n",
       "  </thead>\n",
       "  <tbody>\n",
       "    <tr>\n",
       "      <th>0</th>\n",
       "      <td>49</td>\n",
       "      <td>53.700681</td>\n",
       "      <td>89</td>\n",
       "      <td>104.185353</td>\n",
       "      <td>28.762059</td>\n",
       "    </tr>\n",
       "    <tr>\n",
       "      <th>1</th>\n",
       "      <td>55</td>\n",
       "      <td>50.013401</td>\n",
       "      <td>92</td>\n",
       "      <td>105.461264</td>\n",
       "      <td>30.466833</td>\n",
       "    </tr>\n",
       "    <tr>\n",
       "      <th>2</th>\n",
       "      <td>55</td>\n",
       "      <td>50.013401</td>\n",
       "      <td>92</td>\n",
       "      <td>105.461264</td>\n",
       "      <td>30.193597</td>\n",
       "    </tr>\n",
       "    <tr>\n",
       "      <th>3</th>\n",
       "      <td>70</td>\n",
       "      <td>45.696322</td>\n",
       "      <td>92</td>\n",
       "      <td>113.461264</td>\n",
       "      <td>30.632114</td>\n",
       "    </tr>\n",
       "    <tr>\n",
       "      <th>4</th>\n",
       "      <td>53</td>\n",
       "      <td>50.504232</td>\n",
       "      <td>92</td>\n",
       "      <td>104.461264</td>\n",
       "      <td>29.889149</td>\n",
       "    </tr>\n",
       "  </tbody>\n",
       "</table>\n",
       "</div>"
      ],
      "text/plain": [
       "   HP        MPG  VOL          SP         WT\n",
       "0  49  53.700681   89  104.185353  28.762059\n",
       "1  55  50.013401   92  105.461264  30.466833\n",
       "2  55  50.013401   92  105.461264  30.193597\n",
       "3  70  45.696322   92  113.461264  30.632114\n",
       "4  53  50.504232   92  104.461264  29.889149"
      ]
     },
     "execution_count": 152,
     "metadata": {},
     "output_type": "execute_result"
    }
   ],
   "source": [
    "# Reading the given cars data\n",
    "Cars = pd.read_csv('Cars.csv')\n",
    "Cars.head()"
   ]
  },
  {
   "cell_type": "code",
   "execution_count": 153,
   "id": "43ea7662",
   "metadata": {},
   "outputs": [
    {
     "data": {
      "text/plain": [
       "(81, 5)"
      ]
     },
     "execution_count": 153,
     "metadata": {},
     "output_type": "execute_result"
    }
   ],
   "source": [
    "# shape of data\n",
    "Cars.shape"
   ]
  },
  {
   "cell_type": "code",
   "execution_count": 154,
   "id": "f59286ce",
   "metadata": {},
   "outputs": [
    {
     "name": "stdout",
     "output_type": "stream",
     "text": [
      "MPG_mean - 34.4221\n"
     ]
    }
   ],
   "source": [
    "# Calculating mean of data\n",
    "MPG_mean = Cars.MPG.mean()\n",
    "print ('MPG_mean -',np.round(MPG_mean,4))"
   ]
  },
  {
   "cell_type": "code",
   "execution_count": 155,
   "id": "ca3f64cb",
   "metadata": {},
   "outputs": [
    {
     "name": "stdout",
     "output_type": "stream",
     "text": [
      "MPG_std - 9.131\n"
     ]
    }
   ],
   "source": [
    "# Calculating standard deviation of data\n",
    "MPG_std = Cars.MPG.std()\n",
    "print('MPG_std -',np.round(MPG_std,3))"
   ]
  },
  {
   "cell_type": "code",
   "execution_count": 156,
   "id": "9d70b4de",
   "metadata": {},
   "outputs": [
    {
     "name": "stdout",
     "output_type": "stream",
     "text": [
      "P(MPG>38) = 0.3476\n"
     ]
    }
   ],
   "source": [
    "# Calculating probability for (P>38)\n",
    "P38 = 1-(stats.norm.cdf(38,MPG_mean,MPG_std))\n",
    "print('P(MPG>38) =',np.round(P38,4))"
   ]
  },
  {
   "cell_type": "code",
   "execution_count": 157,
   "id": "d31995bd",
   "metadata": {},
   "outputs": [
    {
     "name": "stdout",
     "output_type": "stream",
     "text": [
      "P(MPG<40) = 0.7293\n"
     ]
    }
   ],
   "source": [
    "# Calculating probability for (P>40)\n",
    "P40 = stats.norm.cdf(40,MPG_mean,MPG_std)\n",
    "print('P(MPG<40) =',np.round(P40,4))"
   ]
  },
  {
   "cell_type": "code",
   "execution_count": 158,
   "id": "e8257e3d",
   "metadata": {},
   "outputs": [
    {
     "name": "stdout",
     "output_type": "stream",
     "text": [
      "P(20<MPG<50) = 0.8989\n"
     ]
    }
   ],
   "source": [
    "# Calculating probability for (20<MPG<50)\n",
    "P20_50 = (stats.norm.cdf(50,MPG_mean,MPG_std) - stats.norm.cdf(20,MPG_mean,MPG_std))\n",
    "print('P(20<MPG<50) =',np.round(P20_50,4))"
   ]
  },
  {
   "cell_type": "markdown",
   "id": "0e0568aa",
   "metadata": {},
   "source": [
    "# Q 21) Check whether the data follows normal distribution\n",
    "\n",
    "a)\tCheck whether the MPG of Cars follows Normal Distribution \n",
    "\n",
    "Dataset: Cars.csv\n",
    "\n"
   ]
  },
  {
   "cell_type": "code",
   "execution_count": 187,
   "id": "063c2baf",
   "metadata": {},
   "outputs": [],
   "source": [
    "# Importing required libraries\n",
    "import numpy as np\n",
    "import pandas as pd\n",
    "import seaborn as sns\n",
    "import matplotlib.pyplot as plt\n",
    "import warnings\n",
    "warnings.filterwarnings(\"ignore\")"
   ]
  },
  {
   "cell_type": "code",
   "execution_count": 188,
   "id": "2c12f6f3",
   "metadata": {},
   "outputs": [
    {
     "data": {
      "text/html": [
       "<div>\n",
       "<style scoped>\n",
       "    .dataframe tbody tr th:only-of-type {\n",
       "        vertical-align: middle;\n",
       "    }\n",
       "\n",
       "    .dataframe tbody tr th {\n",
       "        vertical-align: top;\n",
       "    }\n",
       "\n",
       "    .dataframe thead th {\n",
       "        text-align: right;\n",
       "    }\n",
       "</style>\n",
       "<table border=\"1\" class=\"dataframe\">\n",
       "  <thead>\n",
       "    <tr style=\"text-align: right;\">\n",
       "      <th></th>\n",
       "      <th>HP</th>\n",
       "      <th>MPG</th>\n",
       "      <th>VOL</th>\n",
       "      <th>SP</th>\n",
       "      <th>WT</th>\n",
       "    </tr>\n",
       "  </thead>\n",
       "  <tbody>\n",
       "    <tr>\n",
       "      <th>0</th>\n",
       "      <td>49</td>\n",
       "      <td>53.700681</td>\n",
       "      <td>89</td>\n",
       "      <td>104.185353</td>\n",
       "      <td>28.762059</td>\n",
       "    </tr>\n",
       "    <tr>\n",
       "      <th>1</th>\n",
       "      <td>55</td>\n",
       "      <td>50.013401</td>\n",
       "      <td>92</td>\n",
       "      <td>105.461264</td>\n",
       "      <td>30.466833</td>\n",
       "    </tr>\n",
       "    <tr>\n",
       "      <th>2</th>\n",
       "      <td>55</td>\n",
       "      <td>50.013401</td>\n",
       "      <td>92</td>\n",
       "      <td>105.461264</td>\n",
       "      <td>30.193597</td>\n",
       "    </tr>\n",
       "    <tr>\n",
       "      <th>3</th>\n",
       "      <td>70</td>\n",
       "      <td>45.696322</td>\n",
       "      <td>92</td>\n",
       "      <td>113.461264</td>\n",
       "      <td>30.632114</td>\n",
       "    </tr>\n",
       "    <tr>\n",
       "      <th>4</th>\n",
       "      <td>53</td>\n",
       "      <td>50.504232</td>\n",
       "      <td>92</td>\n",
       "      <td>104.461264</td>\n",
       "      <td>29.889149</td>\n",
       "    </tr>\n",
       "  </tbody>\n",
       "</table>\n",
       "</div>"
      ],
      "text/plain": [
       "   HP        MPG  VOL          SP         WT\n",
       "0  49  53.700681   89  104.185353  28.762059\n",
       "1  55  50.013401   92  105.461264  30.466833\n",
       "2  55  50.013401   92  105.461264  30.193597\n",
       "3  70  45.696322   92  113.461264  30.632114\n",
       "4  53  50.504232   92  104.461264  29.889149"
      ]
     },
     "execution_count": 188,
     "metadata": {},
     "output_type": "execute_result"
    }
   ],
   "source": [
    "# Reading the cars data\n",
    "Cars = pd.read_csv('Cars.csv')\n",
    "Cars.head()"
   ]
  },
  {
   "cell_type": "code",
   "execution_count": 191,
   "id": "248cc3c4",
   "metadata": {},
   "outputs": [
    {
     "data": {
      "text/plain": [
       "<AxesSubplot:xlabel='MPG', ylabel='Density'>"
      ]
     },
     "execution_count": 191,
     "metadata": {},
     "output_type": "execute_result"
    },
    {
     "data": {
      "image/png": "[encoded data removed]",
      "text/plain": [
       "<Figure size 432x288 with 1 Axes>"
      ]
     },
     "metadata": {},
     "output_type": "display_data"
    }
   ],
   "source": [
    "# Ploting distplot\n",
    "sns.set_style('whitegrid')\n",
    "sns.distplot(Cars['MPG'],color='red')"
   ]
  },
  {
   "cell_type": "code",
   "execution_count": 197,
   "id": "07e2d582",
   "metadata": {},
   "outputs": [
    {
     "name": "stdout",
     "output_type": "stream",
     "text": [
      "Skewness of MPG = -0.1779\n"
     ]
    }
   ],
   "source": [
    "# Calculating skewness\n",
    "skew = Cars.MPG.skew()\n",
    "print('Skewness of MPG =',np.round(skew,4))"
   ]
  },
  {
   "cell_type": "markdown",
   "id": "8ed1e2f7",
   "metadata": {},
   "source": [
    "# b)\tCheck Whether the Adipose Tissue (AT) and Waist Circumference(Waist)  from wc-at data set  \n",
    "follows Normal Distribution \n",
    "\n",
    "Dataset: wc-at.csv\n"
   ]
  },
  {
   "cell_type": "code",
   "execution_count": 173,
   "id": "c694cda0",
   "metadata": {},
   "outputs": [
    {
     "name": "stdout",
     "output_type": "stream",
     "text": [
      " Volume in drive C is program files\n",
      " Volume Serial Number is 5C10-FCA7\n",
      "\n",
      " Directory of C:\\Users\\Sayali Hatwar\\OneDrive\\Desktop\\Assignment files\\Basic stat level 1 assignment\n",
      "\n",
      "09-01-2023  00:43    <DIR>          .\n",
      "09-01-2023  00:43    <DIR>          ..\n",
      "05-01-2023  00:24    <DIR>          .ipynb_checkpoints\n",
      "05-01-2023  00:48             1,641 Assign 1.csv\n",
      "09-01-2023  00:43            60,706 Assignment 1.docx\n",
      "09-01-2023  00:43            62,393 assignment 1.ipynb\n",
      "09-01-2023  00:27             3,529 Cars.csv\n",
      "12-12-2022  16:50           252,761 Computer_Data.csv\n",
      "07-11-2022  22:43               962 Q7.csv\n",
      "05-01-2023  13:25               502 Q9_a.csv\n",
      "07-01-2023  18:31             2,252 Q9_b.csv\n",
      "15-11-2022  09:34             1,172 wc-at.csv\n",
      "               9 File(s)        385,918 bytes\n",
      "               3 Dir(s)  123,643,568,128 bytes free\n"
     ]
    }
   ],
   "source": [
    "ls"
   ]
  },
  {
   "cell_type": "code",
   "execution_count": 174,
   "id": "5b3a7b57",
   "metadata": {},
   "outputs": [
    {
     "data": {
      "text/html": [
       "<div>\n",
       "<style scoped>\n",
       "    .dataframe tbody tr th:only-of-type {\n",
       "        vertical-align: middle;\n",
       "    }\n",
       "\n",
       "    .dataframe tbody tr th {\n",
       "        vertical-align: top;\n",
       "    }\n",
       "\n",
       "    .dataframe thead th {\n",
       "        text-align: right;\n",
       "    }\n",
       "</style>\n",
       "<table border=\"1\" class=\"dataframe\">\n",
       "  <thead>\n",
       "    <tr style=\"text-align: right;\">\n",
       "      <th></th>\n",
       "      <th>Waist</th>\n",
       "      <th>AT</th>\n",
       "    </tr>\n",
       "  </thead>\n",
       "  <tbody>\n",
       "    <tr>\n",
       "      <th>0</th>\n",
       "      <td>74.75</td>\n",
       "      <td>25.72</td>\n",
       "    </tr>\n",
       "    <tr>\n",
       "      <th>1</th>\n",
       "      <td>72.60</td>\n",
       "      <td>25.89</td>\n",
       "    </tr>\n",
       "    <tr>\n",
       "      <th>2</th>\n",
       "      <td>81.80</td>\n",
       "      <td>42.60</td>\n",
       "    </tr>\n",
       "    <tr>\n",
       "      <th>3</th>\n",
       "      <td>83.95</td>\n",
       "      <td>42.80</td>\n",
       "    </tr>\n",
       "    <tr>\n",
       "      <th>4</th>\n",
       "      <td>74.65</td>\n",
       "      <td>29.84</td>\n",
       "    </tr>\n",
       "  </tbody>\n",
       "</table>\n",
       "</div>"
      ],
      "text/plain": [
       "   Waist     AT\n",
       "0  74.75  25.72\n",
       "1  72.60  25.89\n",
       "2  81.80  42.60\n",
       "3  83.95  42.80\n",
       "4  74.65  29.84"
      ]
     },
     "execution_count": 174,
     "metadata": {},
     "output_type": "execute_result"
    }
   ],
   "source": [
    "# Reading the data file\n",
    "df = pd.read_csv('wc-at.csv')\n",
    "df.head()"
   ]
  },
  {
   "cell_type": "code",
   "execution_count": 192,
   "id": "8313fd2e",
   "metadata": {},
   "outputs": [
    {
     "data": {
      "text/plain": [
       "(109, 2)"
      ]
     },
     "execution_count": 192,
     "metadata": {},
     "output_type": "execute_result"
    }
   ],
   "source": [
    "# Counting shape\n",
    "df.shape"
   ]
  },
  {
   "cell_type": "code",
   "execution_count": 194,
   "id": "553b5c00",
   "metadata": {},
   "outputs": [
    {
     "data": {
      "image/png": "[encoded data removed]",
      "text/plain": [
       "<Figure size 432x288 with 1 Axes>"
      ]
     },
     "metadata": {},
     "output_type": "display_data"
    }
   ],
   "source": [
    "# Plotting distplot for Adipose Tissue(AT)\n",
    "sns.set_style('whitegrid')\n",
    "sns.distplot(df['AT'],kde = True, color = 'red')\n",
    "plt.show()"
   ]
  },
  {
   "cell_type": "code",
   "execution_count": 196,
   "id": "455c3b9e",
   "metadata": {},
   "outputs": [
    {
     "name": "stdout",
     "output_type": "stream",
     "text": [
      "Skewness of AT = 0.585\n"
     ]
    }
   ],
   "source": [
    "# Calculating skewness \n",
    "skew = df.AT.skew()\n",
    "print('Skewness of AT =',np.round(skew,3))"
   ]
  },
  {
   "cell_type": "code",
   "execution_count": 198,
   "id": "66628214",
   "metadata": {},
   "outputs": [
    {
     "data": {
      "image/png": "[encoded data removed]",
      "text/plain": [
       "<Figure size 432x288 with 1 Axes>"
      ]
     },
     "metadata": {},
     "output_type": "display_data"
    }
   ],
   "source": [
    "# Plot distplot for Waist Circumferece(Waist)\n",
    "sns.set_style('whitegrid')\n",
    "sns.distplot(df['Waist'],kde = True, color = 'red')\n",
    "plt.show()"
   ]
  },
  {
   "cell_type": "code",
   "execution_count": 200,
   "id": "2ca8a502",
   "metadata": {},
   "outputs": [
    {
     "name": "stdout",
     "output_type": "stream",
     "text": [
      "Skewness of Waist = 0.134\n"
     ]
    }
   ],
   "source": [
    "# Calculating skewness of waist\n",
    "skew = df.Waist.skew()\n",
    "print('Skewness of Waist =',np.round(skew,3))"
   ]
  },
  {
   "cell_type": "markdown",
   "id": "597811c1",
   "metadata": {},
   "source": [
    "# Q 22) Calculate the Z scores of  90% confidence interval,94% confidence interval, 60% confidence interval "
   ]
  },
  {
   "cell_type": "code",
   "execution_count": 201,
   "id": "0f0cc047",
   "metadata": {},
   "outputs": [],
   "source": [
    "# importing libraries\n",
    "import numpy as np\n",
    "import pandas as pd\n",
    "import scipy\n",
    "from scipy import stats"
   ]
  },
  {
   "cell_type": "code",
   "execution_count": 205,
   "id": "5817137c",
   "metadata": {},
   "outputs": [
    {
     "name": "stdout",
     "output_type": "stream",
     "text": [
      "Z scores of 90% confidence interval =  1.28\n"
     ]
    }
   ],
   "source": [
    "# Calculating z score of 90% CI\n",
    "Z90 = stats.norm.ppf(0.90)\n",
    "print('Z scores of 90% confidence interval = ',np.round(Z90,2))"
   ]
  },
  {
   "cell_type": "code",
   "execution_count": 206,
   "id": "5be1aaf9",
   "metadata": {},
   "outputs": [
    {
     "name": "stdout",
     "output_type": "stream",
     "text": [
      "Z scores of 94% confidence interval =  1.55\n"
     ]
    }
   ],
   "source": [
    "# Calculating z score of 94% CI\n",
    "Z94 = stats.norm.ppf(0.94)\n",
    "print('Z scores of 94% confidence interval = ',np.round(Z94,2))"
   ]
  },
  {
   "cell_type": "code",
   "execution_count": 207,
   "id": "02be4a6d",
   "metadata": {},
   "outputs": [
    {
     "name": "stdout",
     "output_type": "stream",
     "text": [
      "Z scores of 60% confidence interval =  0.25\n"
     ]
    }
   ],
   "source": [
    "# Calculating z score of 60% CI\n",
    "Z60 = stats.norm.ppf(0.60)\n",
    "print('Z scores of 60% confidence interval = ',np.round(Z60,2))"
   ]
  },
  {
   "cell_type": "markdown",
   "id": "3e51cd9b",
   "metadata": {},
   "source": [
    "# Q 23) Calculate the t scores of 95% confidence interval, 96% confidence interval, 99% confidence interval for sample size of 25"
   ]
  },
  {
   "cell_type": "code",
   "execution_count": 210,
   "id": "74e4e53b",
   "metadata": {},
   "outputs": [],
   "source": [
    "# importing libraries\n",
    "import numpy as np\n",
    "import pandas as pd\n",
    "import scipy\n",
    "from scipy import stats"
   ]
  },
  {
   "cell_type": "code",
   "execution_count": 215,
   "id": "4e2cc224",
   "metadata": {},
   "outputs": [
    {
     "name": "stdout",
     "output_type": "stream",
     "text": [
      "t score of 95% confidence interval = 1.711\n"
     ]
    }
   ],
   "source": [
    "# Calculating t score of 95% CI\n",
    "T95 = stats.t.ppf(0.95,24)\n",
    "print('t score of 95% confidence interval =', np.round(T95,3))"
   ]
  },
  {
   "cell_type": "code",
   "execution_count": 216,
   "id": "7b2c33ff",
   "metadata": {},
   "outputs": [
    {
     "name": "stdout",
     "output_type": "stream",
     "text": [
      "t score of 96% confidence interval = 1.828\n"
     ]
    }
   ],
   "source": [
    "# Calculating t score of 96% CI\n",
    "T96 = stats.t.ppf(0.96,24)\n",
    "print('t score of 96% confidence interval =', np.round(T96,3))"
   ]
  },
  {
   "cell_type": "code",
   "execution_count": 218,
   "id": "b6697023",
   "metadata": {},
   "outputs": [
    {
     "name": "stdout",
     "output_type": "stream",
     "text": [
      "t score of 99% confidence interval = 2.492\n"
     ]
    }
   ],
   "source": [
    "# Calculating t score of 99% CI\n",
    "T99 = stats.t.ppf(0.99,24)\n",
    "print('t score of 99% confidence interval =', np.round(T99,3))"
   ]
  },
  {
   "cell_type": "markdown",
   "id": "9eef77f2",
   "metadata": {},
   "source": [
    "# Q 24)   A Government  company claims that an average light bulb lasts 270 days. A researcher randomly selects 18 bulbs for testing. The sampled bulbs last an average of 260 days, with a standard deviation of 90 days. If the CEO's claim were true, what is the probability that 18 randomly selected bulbs would have an average life of no more than 260 days\n",
    "\n"
   ]
  },
  {
   "cell_type": "code",
   "execution_count": 219,
   "id": "f6e9122b",
   "metadata": {},
   "outputs": [],
   "source": [
    "# importing libraries\n",
    "import numpy as np\n",
    "import pandas as pd\n",
    "import scipy\n",
    "from scipy import stats"
   ]
  },
  {
   "cell_type": "code",
   "execution_count": 230,
   "id": "de77c78b",
   "metadata": {},
   "outputs": [
    {
     "name": "stdout",
     "output_type": "stream",
     "text": [
      "probability of getting an average life of bulb no more than 260 days : 0.678\n"
     ]
    }
   ],
   "source": [
    "# Given that\n",
    "\n",
    "xbar = 270\n",
    "n = 18\n",
    "s = 90\n",
    "\n",
    "# we set up the hypothesis\n",
    "#H0 : mu > 260\n",
    "#H1 : mu < 260  \n",
    "\n",
    "t = (270-260)/(90/np.sqrt(18))\n",
    "\n",
    "pvalue = stats.t.cdf(np.round(t,3),df=17)\n",
    "\n",
    "print('probability of getting an average life of bulb no more than 260 days :',np.round(pvalue,3))"
   ]
  },
  {
   "cell_type": "code",
   "execution_count": null,
   "id": "29bcf16e",
   "metadata": {},
   "outputs": [],
   "source": []
  }
 ],
 "metadata": {
  "kernelspec": {
   "display_name": "Python 3 (ipykernel)",
   "language": "python",
   "name": "python3"
  },
  "language_info": {
   "codemirror_mode": {
    "name": "ipython",
    "version": 3
   },
   "file_extension": ".py",
   "mimetype": "text/x-python",
   "name": "python",
   "nbconvert_exporter": "python",
   "pygments_lexer": "ipython3",
   "version": "3.9.12"
  }
 },
 "nbformat": 4,
 "nbformat_minor": 5
}
