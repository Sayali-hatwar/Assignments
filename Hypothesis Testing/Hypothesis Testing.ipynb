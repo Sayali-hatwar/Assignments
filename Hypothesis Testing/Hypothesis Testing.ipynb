{
 "cells": [
  {
   "cell_type": "markdown",
   "id": "41260fe4",
   "metadata": {},
   "source": [
    "# Hypothesis Testing"
   ]
  },
  {
   "cell_type": "markdown",
   "id": "1169786c",
   "metadata": {},
   "source": [
    "## Problem statement 1: \n",
    "A F&B manager wants to determine whether there is any significant difference in the diameter of the cutlet between two units. A randomly selected sample of cutlets was collected from both units and measured? Analyze the data and draw inferences at 5% significance level. Please state the assumptions and tests that you carried out to check validity of the assumptions.\n",
    "\n",
    "Minitab File : Cutlets.mtw"
   ]
  },
  {
   "cell_type": "code",
   "execution_count": 103,
   "id": "b4b08c9a",
   "metadata": {},
   "outputs": [],
   "source": [
    "# importing libraries\n",
    "import pandas as pd\n",
    "import numpy as np\n",
    "from scipy import stats"
   ]
  },
  {
   "cell_type": "code",
   "execution_count": 104,
   "id": "f6ce9794",
   "metadata": {},
   "outputs": [
    {
     "name": "stdout",
     "output_type": "stream",
     "text": [
      " Volume in drive C is program files\n",
      " Volume Serial Number is 5C10-FCA7\n",
      "\n",
      " Directory of C:\\Users\\Sayali Hatwar\\OneDrive\\Desktop\\Assignment files\\Hypothesis assignment\n",
      "\n",
      "13-01-2023  02:11    <DIR>          .\n",
      "13-01-2023  02:11    <DIR>          ..\n",
      "13-01-2023  00:25    <DIR>          .ipynb_checkpoints\n",
      "13-01-2023  02:11            33,903 Assignment no. 3.ipynb\n",
      "12-12-2022  16:57                87 BuyerRatio.csv\n",
      "12-12-2022  16:57            13,423 Costomer+OrderForm.csv\n",
      "12-12-2022  16:57               525 Cutlets.csv\n",
      "13-01-2023  00:26            61,688 Hypothesis_Testing_Assignment.pptx\n",
      "12-12-2022  16:57             3,487 LabTAT.csv\n",
      "               6 File(s)        113,113 bytes\n",
      "               3 Dir(s)  125,546,184,704 bytes free\n"
     ]
    }
   ],
   "source": [
    "ls"
   ]
  },
  {
   "cell_type": "code",
   "execution_count": 105,
   "id": "8199195a",
   "metadata": {},
   "outputs": [
    {
     "data": {
      "text/html": [
       "<div>\n",
       "<style scoped>\n",
       "    .dataframe tbody tr th:only-of-type {\n",
       "        vertical-align: middle;\n",
       "    }\n",
       "\n",
       "    .dataframe tbody tr th {\n",
       "        vertical-align: top;\n",
       "    }\n",
       "\n",
       "    .dataframe thead th {\n",
       "        text-align: right;\n",
       "    }\n",
       "</style>\n",
       "<table border=\"1\" class=\"dataframe\">\n",
       "  <thead>\n",
       "    <tr style=\"text-align: right;\">\n",
       "      <th></th>\n",
       "      <th>Unit A</th>\n",
       "      <th>Unit B</th>\n",
       "    </tr>\n",
       "  </thead>\n",
       "  <tbody>\n",
       "    <tr>\n",
       "      <th>0</th>\n",
       "      <td>6.8090</td>\n",
       "      <td>6.7703</td>\n",
       "    </tr>\n",
       "    <tr>\n",
       "      <th>1</th>\n",
       "      <td>6.4376</td>\n",
       "      <td>7.5093</td>\n",
       "    </tr>\n",
       "    <tr>\n",
       "      <th>2</th>\n",
       "      <td>6.9157</td>\n",
       "      <td>6.7300</td>\n",
       "    </tr>\n",
       "    <tr>\n",
       "      <th>3</th>\n",
       "      <td>7.3012</td>\n",
       "      <td>6.7878</td>\n",
       "    </tr>\n",
       "    <tr>\n",
       "      <th>4</th>\n",
       "      <td>7.4488</td>\n",
       "      <td>7.1522</td>\n",
       "    </tr>\n",
       "  </tbody>\n",
       "</table>\n",
       "</div>"
      ],
      "text/plain": [
       "   Unit A  Unit B\n",
       "0  6.8090  6.7703\n",
       "1  6.4376  7.5093\n",
       "2  6.9157  6.7300\n",
       "3  7.3012  6.7878\n",
       "4  7.4488  7.1522"
      ]
     },
     "execution_count": 105,
     "metadata": {},
     "output_type": "execute_result"
    }
   ],
   "source": [
    "# Reading data file\n",
    "cutlet = pd.read_csv('cutlets.csv')\n",
    "cutlet.head()"
   ]
  },
  {
   "cell_type": "markdown",
   "id": "3c1fd529",
   "metadata": {},
   "source": [
    "# EDA"
   ]
  },
  {
   "cell_type": "code",
   "execution_count": 106,
   "id": "963ae965",
   "metadata": {},
   "outputs": [
    {
     "data": {
      "text/html": [
       "<div>\n",
       "<style scoped>\n",
       "    .dataframe tbody tr th:only-of-type {\n",
       "        vertical-align: middle;\n",
       "    }\n",
       "\n",
       "    .dataframe tbody tr th {\n",
       "        vertical-align: top;\n",
       "    }\n",
       "\n",
       "    .dataframe thead th {\n",
       "        text-align: right;\n",
       "    }\n",
       "</style>\n",
       "<table border=\"1\" class=\"dataframe\">\n",
       "  <thead>\n",
       "    <tr style=\"text-align: right;\">\n",
       "      <th></th>\n",
       "      <th>Unit A</th>\n",
       "      <th>Unit B</th>\n",
       "    </tr>\n",
       "  </thead>\n",
       "  <tbody>\n",
       "    <tr>\n",
       "      <th>count</th>\n",
       "      <td>35.000000</td>\n",
       "      <td>35.000000</td>\n",
       "    </tr>\n",
       "    <tr>\n",
       "      <th>mean</th>\n",
       "      <td>7.019091</td>\n",
       "      <td>6.964297</td>\n",
       "    </tr>\n",
       "    <tr>\n",
       "      <th>std</th>\n",
       "      <td>0.288408</td>\n",
       "      <td>0.343401</td>\n",
       "    </tr>\n",
       "    <tr>\n",
       "      <th>min</th>\n",
       "      <td>6.437600</td>\n",
       "      <td>6.038000</td>\n",
       "    </tr>\n",
       "    <tr>\n",
       "      <th>25%</th>\n",
       "      <td>6.831500</td>\n",
       "      <td>6.753600</td>\n",
       "    </tr>\n",
       "    <tr>\n",
       "      <th>50%</th>\n",
       "      <td>6.943800</td>\n",
       "      <td>6.939900</td>\n",
       "    </tr>\n",
       "    <tr>\n",
       "      <th>75%</th>\n",
       "      <td>7.280550</td>\n",
       "      <td>7.195000</td>\n",
       "    </tr>\n",
       "    <tr>\n",
       "      <th>max</th>\n",
       "      <td>7.516900</td>\n",
       "      <td>7.545900</td>\n",
       "    </tr>\n",
       "  </tbody>\n",
       "</table>\n",
       "</div>"
      ],
      "text/plain": [
       "          Unit A     Unit B\n",
       "count  35.000000  35.000000\n",
       "mean    7.019091   6.964297\n",
       "std     0.288408   0.343401\n",
       "min     6.437600   6.038000\n",
       "25%     6.831500   6.753600\n",
       "50%     6.943800   6.939900\n",
       "75%     7.280550   7.195000\n",
       "max     7.516900   7.545900"
      ]
     },
     "execution_count": 106,
     "metadata": {},
     "output_type": "execute_result"
    }
   ],
   "source": [
    "# description of data\n",
    "cutlet.describe()"
   ]
  },
  {
   "cell_type": "code",
   "execution_count": 107,
   "id": "44d5cfe2",
   "metadata": {},
   "outputs": [
    {
     "name": "stdout",
     "output_type": "stream",
     "text": [
      "<class 'pandas.core.frame.DataFrame'>\n",
      "RangeIndex: 35 entries, 0 to 34\n",
      "Data columns (total 2 columns):\n",
      " #   Column  Non-Null Count  Dtype  \n",
      "---  ------  --------------  -----  \n",
      " 0   Unit A  35 non-null     float64\n",
      " 1   Unit B  35 non-null     float64\n",
      "dtypes: float64(2)\n",
      "memory usage: 688.0 bytes\n"
     ]
    }
   ],
   "source": [
    "# Checking the information\n",
    "cutlet.info()"
   ]
  },
  {
   "cell_type": "code",
   "execution_count": 108,
   "id": "08482653",
   "metadata": {},
   "outputs": [
    {
     "data": {
      "text/plain": [
       "0"
      ]
     },
     "execution_count": 108,
     "metadata": {},
     "output_type": "execute_result"
    }
   ],
   "source": [
    "# checking the duplicates in data\n",
    "cutlet.duplicated().sum()"
   ]
  },
  {
   "cell_type": "code",
   "execution_count": 109,
   "id": "35038a4c",
   "metadata": {},
   "outputs": [
    {
     "data": {
      "text/plain": [
       "Unit A  Unit B\n",
       "6.4376  7.5093    1\n",
       "7.2828  7.3070    1\n",
       "7.0852  7.5459    1\n",
       "7.1560  7.4220    1\n",
       "7.1561  6.6965    1\n",
       "7.2163  7.0133    1\n",
       "7.2705  7.4314    1\n",
       "7.2783  7.1180    1\n",
       "7.2854  7.1688    1\n",
       "6.9952  6.7594    1\n",
       "7.3012  6.7878    1\n",
       "7.3495  6.7478    1\n",
       "7.3871  6.8110    1\n",
       "7.3930  6.8810    1\n",
       "7.3943  6.5780    1\n",
       "7.4488  7.1522    1\n",
       "7.0621  6.6606    1\n",
       "6.9438  6.8889    1\n",
       "6.5341  6.5217    1\n",
       "6.8236  7.0503    1\n",
       "6.5797  7.1581    1\n",
       "6.5970  6.6672    1\n",
       "6.6801  6.9182    1\n",
       "6.6840  7.2402    1\n",
       "6.7794  7.0992    1\n",
       "6.8090  6.7703    1\n",
       "6.8394  7.0240    1\n",
       "6.9431  6.3346    1\n",
       "6.8568  6.9399    1\n",
       "6.8755  7.2212    1\n",
       "6.9157  6.7300    1\n",
       "6.9246  6.7652    1\n",
       "6.9256  6.0380    1\n",
       "6.9405  7.3875    1\n",
       "7.5169  7.4059    1\n",
       "dtype: int64"
      ]
     },
     "execution_count": 109,
     "metadata": {},
     "output_type": "execute_result"
    }
   ],
   "source": [
    "# Counting unit A and unit B\n",
    "cutlet.value_counts()"
   ]
  },
  {
   "cell_type": "markdown",
   "id": "015b852d",
   "metadata": {},
   "source": [
    "### Two - sample test"
   ]
  },
  {
   "cell_type": "code",
   "execution_count": 110,
   "id": "08c29391",
   "metadata": {},
   "outputs": [],
   "source": [
    "# Providing names to each unit\n",
    "X = cutlet['Unit A']\n",
    "Y = cutlet['Unit B']"
   ]
  },
  {
   "cell_type": "raw",
   "id": "c6ec55b8",
   "metadata": {},
   "source": [
    "# setting up the hypothesis\n",
    "We set up the hypothesis,\n",
    "Ho : X = Y\n",
    "H1 : X != Y    "
   ]
  },
  {
   "cell_type": "code",
   "execution_count": 111,
   "id": "df278e61",
   "metadata": {},
   "outputs": [
    {
     "data": {
      "text/plain": [
       "Ttest_indResult(statistic=0.7228688704678063, pvalue=0.47223947245995)"
      ]
     },
     "execution_count": 111,
     "metadata": {},
     "output_type": "execute_result"
    }
   ],
   "source": [
    "# Calculating pvalue and test statistics\n",
    "p_value = stats.ttest_ind(X,Y,axis=0,alternative='two-sided')\n",
    "p_value"
   ]
  },
  {
   "cell_type": "code",
   "execution_count": 112,
   "id": "fa7d867b",
   "metadata": {},
   "outputs": [
    {
     "data": {
      "text/plain": [
       "0.47223947245995"
      ]
     },
     "execution_count": 112,
     "metadata": {},
     "output_type": "execute_result"
    }
   ],
   "source": [
    "p_value[1]"
   ]
  },
  {
   "cell_type": "code",
   "execution_count": 113,
   "id": "521255ec",
   "metadata": {},
   "outputs": [
    {
     "name": "stdout",
     "output_type": "stream",
     "text": [
      "H0 is accepted and there is no difference in size of cutlet\n"
     ]
    }
   ],
   "source": [
    "# Inference\n",
    "if p_value[1]<0.05:\n",
    "    print('H0 is rejected and there is difference in size of cutlet')\n",
    "else:\n",
    "    print('H0 is accepted and there is no difference in size of cutlet')"
   ]
  },
  {
   "cell_type": "markdown",
   "id": "214ee720",
   "metadata": {},
   "source": [
    "## Inference\n",
    "\n",
    "Ho -> 0.4722\n",
    "\n",
    "H1 -> 1-0.4722 = 0.5278 \n",
    "\n",
    "alpha = 0.05\n",
    "\n",
    "t- statistics = 0.722\n",
    "\n",
    "As H0 is accepted there is no significance difference in size of cutlet"
   ]
  },
  {
   "cell_type": "markdown",
   "id": "21182cc6",
   "metadata": {},
   "source": [
    "## Problem Statement 2:\n",
    "    \n",
    "  A hospital wants to determine whether there is any difference in the average Turn Around Time (TAT) of reports of the laboratories on their preferred list. They collected a random sample and recorded TAT for reports of 4 laboratories.TAT is defined as sample collected to report dispatch.\n",
    "   \n",
    "  Analyze the data and determine whether there is any difference in average TAT among the different laboratories at 5% significance level.\n",
    " \n",
    " \n",
    "    Minitab File: LabTAT.mtw\n"
   ]
  },
  {
   "cell_type": "code",
   "execution_count": 114,
   "id": "0e9d51b6",
   "metadata": {},
   "outputs": [],
   "source": [
    "# importing libraries\n",
    "import pandas as pd\n",
    "import numpy as np\n",
    "from scipy import stats"
   ]
  },
  {
   "cell_type": "code",
   "execution_count": 115,
   "id": "f041cfee",
   "metadata": {},
   "outputs": [
    {
     "name": "stdout",
     "output_type": "stream",
     "text": [
      " Volume in drive C is program files\n",
      " Volume Serial Number is 5C10-FCA7\n",
      "\n",
      " Directory of C:\\Users\\Sayali Hatwar\\OneDrive\\Desktop\\Assignment files\\Hypothesis assignment\n",
      "\n",
      "13-01-2023  02:11    <DIR>          .\n",
      "13-01-2023  02:11    <DIR>          ..\n",
      "13-01-2023  00:25    <DIR>          .ipynb_checkpoints\n",
      "13-01-2023  02:11            33,903 Assignment no. 3.ipynb\n",
      "12-12-2022  16:57                87 BuyerRatio.csv\n",
      "12-12-2022  16:57            13,423 Costomer+OrderForm.csv\n",
      "12-12-2022  16:57               525 Cutlets.csv\n",
      "13-01-2023  00:26            61,688 Hypothesis_Testing_Assignment.pptx\n",
      "12-12-2022  16:57             3,487 LabTAT.csv\n",
      "               6 File(s)        113,113 bytes\n",
      "               3 Dir(s)  125,546,184,704 bytes free\n"
     ]
    }
   ],
   "source": [
    "ls"
   ]
  },
  {
   "cell_type": "code",
   "execution_count": 116,
   "id": "bd158762",
   "metadata": {},
   "outputs": [
    {
     "data": {
      "text/html": [
       "<div>\n",
       "<style scoped>\n",
       "    .dataframe tbody tr th:only-of-type {\n",
       "        vertical-align: middle;\n",
       "    }\n",
       "\n",
       "    .dataframe tbody tr th {\n",
       "        vertical-align: top;\n",
       "    }\n",
       "\n",
       "    .dataframe thead th {\n",
       "        text-align: right;\n",
       "    }\n",
       "</style>\n",
       "<table border=\"1\" class=\"dataframe\">\n",
       "  <thead>\n",
       "    <tr style=\"text-align: right;\">\n",
       "      <th></th>\n",
       "      <th>Laboratory 1</th>\n",
       "      <th>Laboratory 2</th>\n",
       "      <th>Laboratory 3</th>\n",
       "      <th>Laboratory 4</th>\n",
       "    </tr>\n",
       "  </thead>\n",
       "  <tbody>\n",
       "    <tr>\n",
       "      <th>0</th>\n",
       "      <td>185.35</td>\n",
       "      <td>165.53</td>\n",
       "      <td>176.70</td>\n",
       "      <td>166.13</td>\n",
       "    </tr>\n",
       "    <tr>\n",
       "      <th>1</th>\n",
       "      <td>170.49</td>\n",
       "      <td>185.91</td>\n",
       "      <td>198.45</td>\n",
       "      <td>160.79</td>\n",
       "    </tr>\n",
       "    <tr>\n",
       "      <th>2</th>\n",
       "      <td>192.77</td>\n",
       "      <td>194.92</td>\n",
       "      <td>201.23</td>\n",
       "      <td>185.18</td>\n",
       "    </tr>\n",
       "    <tr>\n",
       "      <th>3</th>\n",
       "      <td>177.33</td>\n",
       "      <td>183.00</td>\n",
       "      <td>199.61</td>\n",
       "      <td>176.42</td>\n",
       "    </tr>\n",
       "    <tr>\n",
       "      <th>4</th>\n",
       "      <td>193.41</td>\n",
       "      <td>169.57</td>\n",
       "      <td>204.63</td>\n",
       "      <td>152.60</td>\n",
       "    </tr>\n",
       "  </tbody>\n",
       "</table>\n",
       "</div>"
      ],
      "text/plain": [
       "   Laboratory 1  Laboratory 2  Laboratory 3  Laboratory 4\n",
       "0        185.35        165.53        176.70        166.13\n",
       "1        170.49        185.91        198.45        160.79\n",
       "2        192.77        194.92        201.23        185.18\n",
       "3        177.33        183.00        199.61        176.42\n",
       "4        193.41        169.57        204.63        152.60"
      ]
     },
     "execution_count": 116,
     "metadata": {},
     "output_type": "execute_result"
    }
   ],
   "source": [
    "# Reading csv file\n",
    "TAT = pd.read_csv('LabTAT.csv')\n",
    "TAT.head()"
   ]
  },
  {
   "cell_type": "code",
   "execution_count": 117,
   "id": "b0482693",
   "metadata": {},
   "outputs": [],
   "source": [
    "# Alloting name to experiment list\n",
    "Z1 = TAT['Laboratory 1']\n",
    "Z2 = TAT['Laboratory 1']\n",
    "Z3 = TAT['Laboratory 1']\n",
    "Z4 = TAT['Laboratory 1']"
   ]
  },
  {
   "cell_type": "markdown",
   "id": "37ae9e91",
   "metadata": {},
   "source": [
    "Now, we set up the hypothis\n",
    "\n",
    "H0 : Z1 = Z2 = Z3 = Z4\n",
    "\n",
    "H1 : Z1 != Z2 != Z3 != Z4    "
   ]
  },
  {
   "cell_type": "code",
   "execution_count": 118,
   "id": "b9854178",
   "metadata": {},
   "outputs": [
    {
     "data": {
      "text/plain": [
       "F_onewayResult(statistic=118.70421654401437, pvalue=2.1156708949992414e-57)"
      ]
     },
     "execution_count": 118,
     "metadata": {},
     "output_type": "execute_result"
    }
   ],
   "source": [
    "# Calculating p_value\n",
    "p_value = stats.f_oneway(TAT.iloc[:,0],TAT.iloc[:,1],TAT.iloc[:,2],TAT.iloc[:,3])\n",
    "p_value"
   ]
  },
  {
   "cell_type": "code",
   "execution_count": 119,
   "id": "998e4d1b",
   "metadata": {},
   "outputs": [
    {
     "data": {
      "text/plain": [
       "2.1156708949992414e-57"
      ]
     },
     "execution_count": 119,
     "metadata": {},
     "output_type": "execute_result"
    }
   ],
   "source": [
    "p_value[1]"
   ]
  },
  {
   "cell_type": "code",
   "execution_count": 120,
   "id": "d46a1ad9",
   "metadata": {},
   "outputs": [
    {
     "name": "stdout",
     "output_type": "stream",
     "text": [
      "H0 is rejected and there is some difference in average TAT among the different laboratories\n"
     ]
    }
   ],
   "source": [
    "# Inference\n",
    "if p_value[1]<0.5:\n",
    "    print('H0 is rejected and there is some difference in average TAT among the different laboratories')\n",
    "else:\n",
    "    print('H0 is accepted and there is no difference in average TAT among the different laboratories')"
   ]
  },
  {
   "cell_type": "markdown",
   "id": "a7e5bdb9",
   "metadata": {},
   "source": [
    "## Problem Statement 3:\n",
    "    \n",
    "  Sales of products in four different regions is tabulated for males and females. Find if male-female buyer rations are similar across regions\n",
    " \n",
    "  Minitab File: Buyer Ratio.mtw\n"
   ]
  },
  {
   "cell_type": "code",
   "execution_count": 121,
   "id": "b4ec6bfe",
   "metadata": {},
   "outputs": [],
   "source": [
    "# Importing libraries\n",
    "import pandas as pd\n",
    "from scipy import stats\n",
    "import numpy as np\n",
    "from scipy.stats import chi2_contingency,chisquare"
   ]
  },
  {
   "cell_type": "code",
   "execution_count": 122,
   "id": "88fe397f",
   "metadata": {},
   "outputs": [
    {
     "name": "stdout",
     "output_type": "stream",
     "text": [
      " Volume in drive C is program files\n",
      " Volume Serial Number is 5C10-FCA7\n",
      "\n",
      " Directory of C:\\Users\\Sayali Hatwar\\OneDrive\\Desktop\\Assignment files\\Hypothesis assignment\n",
      "\n",
      "13-01-2023  02:11    <DIR>          .\n",
      "13-01-2023  02:11    <DIR>          ..\n",
      "13-01-2023  00:25    <DIR>          .ipynb_checkpoints\n",
      "13-01-2023  02:11            33,903 Assignment no. 3.ipynb\n",
      "12-12-2022  16:57                87 BuyerRatio.csv\n",
      "12-12-2022  16:57            13,423 Costomer+OrderForm.csv\n",
      "12-12-2022  16:57               525 Cutlets.csv\n",
      "13-01-2023  00:26            61,688 Hypothesis_Testing_Assignment.pptx\n",
      "12-12-2022  16:57             3,487 LabTAT.csv\n",
      "               6 File(s)        113,113 bytes\n",
      "               3 Dir(s)  125,546,184,704 bytes free\n"
     ]
    }
   ],
   "source": [
    "ls"
   ]
  },
  {
   "cell_type": "code",
   "execution_count": 123,
   "id": "3bc98a91",
   "metadata": {},
   "outputs": [
    {
     "data": {
      "text/html": [
       "<div>\n",
       "<style scoped>\n",
       "    .dataframe tbody tr th:only-of-type {\n",
       "        vertical-align: middle;\n",
       "    }\n",
       "\n",
       "    .dataframe tbody tr th {\n",
       "        vertical-align: top;\n",
       "    }\n",
       "\n",
       "    .dataframe thead th {\n",
       "        text-align: right;\n",
       "    }\n",
       "</style>\n",
       "<table border=\"1\" class=\"dataframe\">\n",
       "  <thead>\n",
       "    <tr style=\"text-align: right;\">\n",
       "      <th></th>\n",
       "      <th>Observed Values</th>\n",
       "      <th>East</th>\n",
       "      <th>West</th>\n",
       "      <th>North</th>\n",
       "      <th>South</th>\n",
       "    </tr>\n",
       "  </thead>\n",
       "  <tbody>\n",
       "    <tr>\n",
       "      <th>0</th>\n",
       "      <td>Males</td>\n",
       "      <td>50</td>\n",
       "      <td>142</td>\n",
       "      <td>131</td>\n",
       "      <td>70</td>\n",
       "    </tr>\n",
       "    <tr>\n",
       "      <th>1</th>\n",
       "      <td>Females</td>\n",
       "      <td>435</td>\n",
       "      <td>1523</td>\n",
       "      <td>1356</td>\n",
       "      <td>750</td>\n",
       "    </tr>\n",
       "  </tbody>\n",
       "</table>\n",
       "</div>"
      ],
      "text/plain": [
       "  Observed Values  East  West  North  South\n",
       "0           Males    50   142    131     70\n",
       "1         Females   435  1523   1356    750"
      ]
     },
     "execution_count": 123,
     "metadata": {},
     "output_type": "execute_result"
    }
   ],
   "source": [
    "# Reading the file\n",
    "BR = pd.read_csv('BuyerRatio.csv')\n",
    "BR.head()"
   ]
  },
  {
   "cell_type": "markdown",
   "id": "355a1feb",
   "metadata": {},
   "source": [
    "Now, we set the hypothis\n",
    "\n",
    "H0 : Male = Female\n",
    "\n",
    "H1 : Male != Female    "
   ]
  },
  {
   "cell_type": "code",
   "execution_count": 124,
   "id": "cbd7b804",
   "metadata": {},
   "outputs": [
    {
     "data": {
      "text/plain": [
       "array([[  50,  142,  131,   70],\n",
       "       [ 435, 1523, 1356,  750]])"
      ]
     },
     "execution_count": 124,
     "metadata": {},
     "output_type": "execute_result"
    }
   ],
   "source": [
    "# converting to array\n",
    "df = np.array([[50,142,131,70],[435,1523,1356,750]])\n",
    "df"
   ]
  },
  {
   "cell_type": "code",
   "execution_count": 125,
   "id": "0484186a",
   "metadata": {},
   "outputs": [
    {
     "data": {
      "text/plain": [
       "(1.595945538661058,\n",
       " 0.6603094907091882,\n",
       " 3,\n",
       " array([[  42.76531299,  146.81287862,  131.11756787,   72.30424052],\n",
       "        [ 442.23468701, 1518.18712138, 1355.88243213,  747.69575948]]))"
      ]
     },
     "execution_count": 125,
     "metadata": {},
     "output_type": "execute_result"
    }
   ],
   "source": [
    "# Calculating contigency table\n",
    "chi2_contingency(df)"
   ]
  },
  {
   "cell_type": "code",
   "execution_count": 126,
   "id": "5e335b51",
   "metadata": {},
   "outputs": [
    {
     "data": {
      "text/plain": [
       "0.6603094907091882"
      ]
     },
     "execution_count": 126,
     "metadata": {},
     "output_type": "execute_result"
    }
   ],
   "source": [
    "# Calculating p_value\n",
    "p_value = chi2_contingency(df)[1]\n",
    "p_value"
   ]
  },
  {
   "cell_type": "code",
   "execution_count": 127,
   "id": "a96987d5",
   "metadata": {},
   "outputs": [
    {
     "name": "stdout",
     "output_type": "stream",
     "text": [
      "H0 is accepted and there is no significant difference between male and female buyers ration across region\n"
     ]
    }
   ],
   "source": [
    "# Inference\n",
    "if p_value<0.05:\n",
    "    print('H0 is rejected and there is significant difference between male and female buyers ratio across region')\n",
    "else:\n",
    "    print('H0 is accepted and there is no significant difference between male and female buyers ration across region')"
   ]
  },
  {
   "cell_type": "markdown",
   "id": "aceffb6a",
   "metadata": {},
   "source": [
    "## Problem Statement 4:\n",
    "    \n",
    "   Telecall uses 4 centers around the globe to process customer order forms. They audit a certain %  of the customer order forms. Any error in order form renders it defective and has to be reworked before processing.  The manager wants to check whether the defective %  varies by centre. Please analyze the data at 5% significance level and help the manager draw appropriate inferences\n",
    "\n",
    "Minitab File: CustomerOrderForm.mtw\n",
    " \n"
   ]
  },
  {
   "cell_type": "code",
   "execution_count": 128,
   "id": "34b2ac97",
   "metadata": {},
   "outputs": [],
   "source": [
    "# Importing libraries\n",
    "import pandas as pd\n",
    "import numpy as np\n",
    "from scipy import stats\n",
    "from scipy.stats import chi2_contingency,chisquare"
   ]
  },
  {
   "cell_type": "code",
   "execution_count": 129,
   "id": "af9ba64e",
   "metadata": {},
   "outputs": [
    {
     "name": "stdout",
     "output_type": "stream",
     "text": [
      " Volume in drive C is program files\n",
      " Volume Serial Number is 5C10-FCA7\n",
      "\n",
      " Directory of C:\\Users\\Sayali Hatwar\\OneDrive\\Desktop\\Assignment files\\Hypothesis assignment\n",
      "\n",
      "13-01-2023  02:11    <DIR>          .\n",
      "13-01-2023  02:11    <DIR>          ..\n",
      "13-01-2023  00:25    <DIR>          .ipynb_checkpoints\n",
      "13-01-2023  02:11            33,903 Assignment no. 3.ipynb\n",
      "12-12-2022  16:57                87 BuyerRatio.csv\n",
      "12-12-2022  16:57            13,423 Costomer+OrderForm.csv\n",
      "12-12-2022  16:57               525 Cutlets.csv\n",
      "13-01-2023  00:26            61,688 Hypothesis_Testing_Assignment.pptx\n",
      "12-12-2022  16:57             3,487 LabTAT.csv\n",
      "               6 File(s)        113,113 bytes\n",
      "               3 Dir(s)  125,546,180,608 bytes free\n"
     ]
    }
   ],
   "source": [
    "ls"
   ]
  },
  {
   "cell_type": "code",
   "execution_count": 130,
   "id": "5cd83c56",
   "metadata": {},
   "outputs": [
    {
     "data": {
      "text/html": [
       "<div>\n",
       "<style scoped>\n",
       "    .dataframe tbody tr th:only-of-type {\n",
       "        vertical-align: middle;\n",
       "    }\n",
       "\n",
       "    .dataframe tbody tr th {\n",
       "        vertical-align: top;\n",
       "    }\n",
       "\n",
       "    .dataframe thead th {\n",
       "        text-align: right;\n",
       "    }\n",
       "</style>\n",
       "<table border=\"1\" class=\"dataframe\">\n",
       "  <thead>\n",
       "    <tr style=\"text-align: right;\">\n",
       "      <th></th>\n",
       "      <th>Phillippines</th>\n",
       "      <th>Indonesia</th>\n",
       "      <th>Malta</th>\n",
       "      <th>India</th>\n",
       "    </tr>\n",
       "  </thead>\n",
       "  <tbody>\n",
       "    <tr>\n",
       "      <th>0</th>\n",
       "      <td>Error Free</td>\n",
       "      <td>Error Free</td>\n",
       "      <td>Defective</td>\n",
       "      <td>Error Free</td>\n",
       "    </tr>\n",
       "    <tr>\n",
       "      <th>1</th>\n",
       "      <td>Error Free</td>\n",
       "      <td>Error Free</td>\n",
       "      <td>Error Free</td>\n",
       "      <td>Defective</td>\n",
       "    </tr>\n",
       "    <tr>\n",
       "      <th>2</th>\n",
       "      <td>Error Free</td>\n",
       "      <td>Defective</td>\n",
       "      <td>Defective</td>\n",
       "      <td>Error Free</td>\n",
       "    </tr>\n",
       "    <tr>\n",
       "      <th>3</th>\n",
       "      <td>Error Free</td>\n",
       "      <td>Error Free</td>\n",
       "      <td>Error Free</td>\n",
       "      <td>Error Free</td>\n",
       "    </tr>\n",
       "    <tr>\n",
       "      <th>4</th>\n",
       "      <td>Error Free</td>\n",
       "      <td>Error Free</td>\n",
       "      <td>Defective</td>\n",
       "      <td>Error Free</td>\n",
       "    </tr>\n",
       "  </tbody>\n",
       "</table>\n",
       "</div>"
      ],
      "text/plain": [
       "  Phillippines   Indonesia       Malta       India\n",
       "0   Error Free  Error Free   Defective  Error Free\n",
       "1   Error Free  Error Free  Error Free   Defective\n",
       "2   Error Free   Defective   Defective  Error Free\n",
       "3   Error Free  Error Free  Error Free  Error Free\n",
       "4   Error Free  Error Free   Defective  Error Free"
      ]
     },
     "execution_count": 130,
     "metadata": {},
     "output_type": "execute_result"
    }
   ],
   "source": [
    "# Reading the csv file\n",
    "COF = pd.read_csv('Costomer+OrderForm.csv')\n",
    "COF.head()"
   ]
  },
  {
   "cell_type": "markdown",
   "id": "1998b89e",
   "metadata": {},
   "source": [
    "Now, we set the hypothesis\n",
    "\n",
    "H0 : NO defective % varies by centre\n",
    "\n",
    "H1 : Defective % varies by centre    "
   ]
  },
  {
   "cell_type": "code",
   "execution_count": 131,
   "id": "6b472aee",
   "metadata": {},
   "outputs": [
    {
     "name": "stdout",
     "output_type": "stream",
     "text": [
      "<class 'pandas.core.frame.DataFrame'>\n",
      "RangeIndex: 300 entries, 0 to 299\n",
      "Data columns (total 4 columns):\n",
      " #   Column        Non-Null Count  Dtype \n",
      "---  ------        --------------  ----- \n",
      " 0   Phillippines  300 non-null    object\n",
      " 1   Indonesia     300 non-null    object\n",
      " 2   Malta         300 non-null    object\n",
      " 3   India         300 non-null    object\n",
      "dtypes: object(4)\n",
      "memory usage: 9.5+ KB\n"
     ]
    }
   ],
   "source": [
    "# Reading the information \n",
    "COF.info()"
   ]
  },
  {
   "cell_type": "code",
   "execution_count": 132,
   "id": "9bfe3f4e",
   "metadata": {},
   "outputs": [
    {
     "name": "stdout",
     "output_type": "stream",
     "text": [
      "Error Free    271\n",
      "Defective      29\n",
      "Name: Phillippines, dtype: int64\n",
      "Error Free    267\n",
      "Defective      33\n",
      "Name: Indonesia, dtype: int64\n",
      "Error Free    269\n",
      "Defective      31\n",
      "Name: Malta, dtype: int64\n",
      "Error Free    280\n",
      "Defective      20\n",
      "Name: India, dtype: int64\n"
     ]
    }
   ],
   "source": [
    "# Counting error free and defective values\n",
    "print(COF['Phillippines'].value_counts())\n",
    "print(COF['Indonesia'].value_counts())\n",
    "print(COF['Malta'].value_counts())\n",
    "print(COF['India'].value_counts())"
   ]
  },
  {
   "cell_type": "code",
   "execution_count": 133,
   "id": "3f2e0003",
   "metadata": {},
   "outputs": [
    {
     "data": {
      "text/plain": [
       "array([[271, 267, 269, 280],\n",
       "       [ 29,  33,  31,  20]])"
      ]
     },
     "execution_count": 133,
     "metadata": {},
     "output_type": "execute_result"
    }
   ],
   "source": [
    "# converting to array\n",
    "df = np.array([[271,267,269,280],[29,33,31,20]])\n",
    "df"
   ]
  },
  {
   "cell_type": "code",
   "execution_count": 134,
   "id": "d23c0b6f",
   "metadata": {},
   "outputs": [
    {
     "data": {
      "text/plain": [
       "(3.858960685820355,\n",
       " 0.2771020991233135,\n",
       " 3,\n",
       " array([[271.75, 271.75, 271.75, 271.75],\n",
       "        [ 28.25,  28.25,  28.25,  28.25]]))"
      ]
     },
     "execution_count": 134,
     "metadata": {},
     "output_type": "execute_result"
    }
   ],
   "source": [
    "# Calculating contingency table\n",
    "chi2_contingency(df)"
   ]
  },
  {
   "cell_type": "code",
   "execution_count": 135,
   "id": "f6ea9cf3",
   "metadata": {},
   "outputs": [
    {
     "data": {
      "text/plain": [
       "0.2771020991233135"
      ]
     },
     "execution_count": 135,
     "metadata": {},
     "output_type": "execute_result"
    }
   ],
   "source": [
    "# Calculating p_value from chi2 contigency table\n",
    "p_value = chi2_contingency(df)[1]\n",
    "p_value"
   ]
  },
  {
   "cell_type": "code",
   "execution_count": 136,
   "id": "1e326c47",
   "metadata": {},
   "outputs": [
    {
     "name": "stdout",
     "output_type": "stream",
     "text": [
      "H0 is accepted and there are no defective % varies by centre\n"
     ]
    }
   ],
   "source": [
    "# Inference\n",
    "if p_value < 0.05:\n",
    "    print('H0 is rejected and there are some defective % varies by centre')\n",
    "else:\n",
    "    print('H0 is accepted and there are no defective % varies by centre')"
   ]
  },
  {
   "cell_type": "code",
   "execution_count": null,
   "id": "e92a3477",
   "metadata": {},
   "outputs": [],
   "source": []
  }
 ],
 "metadata": {
  "kernelspec": {
   "display_name": "Python 3 (ipykernel)",
   "language": "python",
   "name": "python3"
  },
  "language_info": {
   "codemirror_mode": {
    "name": "ipython",
    "version": 3
   },
   "file_extension": ".py",
   "mimetype": "text/x-python",
   "name": "python",
   "nbconvert_exporter": "python",
   "pygments_lexer": "ipython3",
   "version": "3.9.12"
  }
 },
 "nbformat": 4,
 "nbformat_minor": 5
}
