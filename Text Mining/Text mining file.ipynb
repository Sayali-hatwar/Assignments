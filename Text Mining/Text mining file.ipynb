{
 "cells": [
  {
   "cell_type": "markdown",
   "id": "f5ae777f",
   "metadata": {},
   "source": [
    "# Text Mining\n",
    "\n",
    "1. Text mining, also known as text data mining or text analytics, is the process of extracting useful information and knowledge from unstructured text data. Unstructured text data refers to any text that does not have a predefined structure or format, such as emails, social media posts, articles, customer reviews, and more.\n",
    "\n",
    "2. Text mining involves a combination of natural language processing (NLP) techniques, statistical methods, and machine learning algorithms to analyze and understand the content of textual data"
   ]
  },
  {
   "cell_type": "markdown",
   "id": "ff29fdf3",
   "metadata": {},
   "source": [
    "# Problem statement 1:\n",
    "1) Perform sentimental analysis on the Elon-musk tweets (Exlon-musk.csv)\n"
   ]
  },
  {
   "cell_type": "markdown",
   "id": "feddea44",
   "metadata": {},
   "source": [
    "## Importing libraries"
   ]
  },
  {
   "cell_type": "code",
   "execution_count": 12,
   "id": "2f0f21ee",
   "metadata": {},
   "outputs": [],
   "source": [
    "# importing libraries\n",
    "import re\n",
    "import pandas as pd\n",
    "import numpy as np\n",
    "import seaborn as sns\n",
    "import warnings\n",
    "warnings.filterwarnings('ignore')"
   ]
  },
  {
   "cell_type": "code",
   "execution_count": 13,
   "id": "e754a420",
   "metadata": {},
   "outputs": [
    {
     "name": "stdout",
     "output_type": "stream",
     "text": [
      " Volume in drive C is program files\n",
      " Volume Serial Number is 5C10-FCA7\n",
      "\n",
      " Directory of C:\\Users\\Sayali Hatwar\\OneDrive\\Desktop\\Assignment files\\Text mining assignment\n",
      "\n",
      "18-01-2023  19:26    <DIR>          .\n",
      "18-01-2023  19:26    <DIR>          ..\n",
      "16-01-2023  14:57    <DIR>          .ipynb_checkpoints\n",
      "15-01-2023  00:53               211 Assignment.txt\n",
      "15-01-2023  00:53           170,848 Elon_musk.csv\n",
      "15-01-2023  00:53            46,299 negative-words.txt\n",
      "15-01-2023  00:53            20,630 positive-words.txt\n",
      "15-01-2023  00:53             4,158 stop.txt\n",
      "18-01-2023  19:26           105,001 Text Mining Assignment.ipynb\n",
      "               6 File(s)        347,147 bytes\n",
      "               3 Dir(s)  118,750,384,128 bytes free\n"
     ]
    }
   ],
   "source": [
    "ls"
   ]
  },
  {
   "cell_type": "markdown",
   "id": "6cdb8fa6",
   "metadata": {},
   "source": [
    "## Reading File"
   ]
  },
  {
   "cell_type": "code",
   "execution_count": 14,
   "id": "9f0af3d0",
   "metadata": {},
   "outputs": [
    {
     "data": {
      "text/html": [
       "<div>\n",
       "<style scoped>\n",
       "    .dataframe tbody tr th:only-of-type {\n",
       "        vertical-align: middle;\n",
       "    }\n",
       "\n",
       "    .dataframe tbody tr th {\n",
       "        vertical-align: top;\n",
       "    }\n",
       "\n",
       "    .dataframe thead th {\n",
       "        text-align: right;\n",
       "    }\n",
       "</style>\n",
       "<table border=\"1\" class=\"dataframe\">\n",
       "  <thead>\n",
       "    <tr style=\"text-align: right;\">\n",
       "      <th></th>\n",
       "      <th>Unnamed: 0</th>\n",
       "      <th>Text</th>\n",
       "    </tr>\n",
       "  </thead>\n",
       "  <tbody>\n",
       "    <tr>\n",
       "      <th>0</th>\n",
       "      <td>1</td>\n",
       "      <td>@kunalb11 Im an alien</td>\n",
       "    </tr>\n",
       "    <tr>\n",
       "      <th>1</th>\n",
       "      <td>2</td>\n",
       "      <td>@ID_AA_Carmack Ray tracing on Cyberpunk with H...</td>\n",
       "    </tr>\n",
       "    <tr>\n",
       "      <th>2</th>\n",
       "      <td>3</td>\n",
       "      <td>@joerogan @Spotify Great interview!</td>\n",
       "    </tr>\n",
       "    <tr>\n",
       "      <th>3</th>\n",
       "      <td>4</td>\n",
       "      <td>@gtera27 Doge is underestimated</td>\n",
       "    </tr>\n",
       "    <tr>\n",
       "      <th>4</th>\n",
       "      <td>5</td>\n",
       "      <td>@teslacn Congratulations Tesla China for amazi...</td>\n",
       "    </tr>\n",
       "  </tbody>\n",
       "</table>\n",
       "</div>"
      ],
      "text/plain": [
       "   Unnamed: 0                                               Text\n",
       "0           1                             @kunalb11 Im an alien\n",
       "1           2  @ID_AA_Carmack Ray tracing on Cyberpunk with H...\n",
       "2           3                @joerogan @Spotify Great interview!\n",
       "3           4                    @gtera27 Doge is underestimated\n",
       "4           5  @teslacn Congratulations Tesla China for amazi..."
      ]
     },
     "execution_count": 14,
     "metadata": {},
     "output_type": "execute_result"
    }
   ],
   "source": [
    "# Reading the csv file\n",
    "Elon = pd.read_csv('Elon_musk.csv',encoding='latin1')\n",
    "Elon.head()"
   ]
  },
  {
   "cell_type": "markdown",
   "id": "2ef825ae",
   "metadata": {},
   "source": [
    "## EDA"
   ]
  },
  {
   "cell_type": "code",
   "execution_count": 15,
   "id": "2bd131c3",
   "metadata": {},
   "outputs": [
    {
     "data": {
      "text/plain": [
       "(1999, 2)"
      ]
     },
     "execution_count": 15,
     "metadata": {},
     "output_type": "execute_result"
    }
   ],
   "source": [
    "# Shape of dataset\n",
    "Elon.shape"
   ]
  },
  {
   "cell_type": "code",
   "execution_count": 16,
   "id": "3774eff4",
   "metadata": {},
   "outputs": [
    {
     "data": {
      "text/html": [
       "<div>\n",
       "<style scoped>\n",
       "    .dataframe tbody tr th:only-of-type {\n",
       "        vertical-align: middle;\n",
       "    }\n",
       "\n",
       "    .dataframe tbody tr th {\n",
       "        vertical-align: top;\n",
       "    }\n",
       "\n",
       "    .dataframe thead th {\n",
       "        text-align: right;\n",
       "    }\n",
       "</style>\n",
       "<table border=\"1\" class=\"dataframe\">\n",
       "  <thead>\n",
       "    <tr style=\"text-align: right;\">\n",
       "      <th></th>\n",
       "      <th>Unnamed: 0</th>\n",
       "    </tr>\n",
       "  </thead>\n",
       "  <tbody>\n",
       "    <tr>\n",
       "      <th>count</th>\n",
       "      <td>1999.000000</td>\n",
       "    </tr>\n",
       "    <tr>\n",
       "      <th>mean</th>\n",
       "      <td>1000.000000</td>\n",
       "    </tr>\n",
       "    <tr>\n",
       "      <th>std</th>\n",
       "      <td>577.205914</td>\n",
       "    </tr>\n",
       "    <tr>\n",
       "      <th>min</th>\n",
       "      <td>1.000000</td>\n",
       "    </tr>\n",
       "    <tr>\n",
       "      <th>25%</th>\n",
       "      <td>500.500000</td>\n",
       "    </tr>\n",
       "    <tr>\n",
       "      <th>50%</th>\n",
       "      <td>1000.000000</td>\n",
       "    </tr>\n",
       "    <tr>\n",
       "      <th>75%</th>\n",
       "      <td>1499.500000</td>\n",
       "    </tr>\n",
       "    <tr>\n",
       "      <th>max</th>\n",
       "      <td>1999.000000</td>\n",
       "    </tr>\n",
       "  </tbody>\n",
       "</table>\n",
       "</div>"
      ],
      "text/plain": [
       "        Unnamed: 0\n",
       "count  1999.000000\n",
       "mean   1000.000000\n",
       "std     577.205914\n",
       "min       1.000000\n",
       "25%     500.500000\n",
       "50%    1000.000000\n",
       "75%    1499.500000\n",
       "max    1999.000000"
      ]
     },
     "execution_count": 16,
     "metadata": {},
     "output_type": "execute_result"
    }
   ],
   "source": [
    "# describing file\n",
    "Elon.describe()"
   ]
  },
  {
   "cell_type": "code",
   "execution_count": 17,
   "id": "be70f10e",
   "metadata": {},
   "outputs": [
    {
     "name": "stdout",
     "output_type": "stream",
     "text": [
      "<class 'pandas.core.frame.DataFrame'>\n",
      "RangeIndex: 1999 entries, 0 to 1998\n",
      "Data columns (total 2 columns):\n",
      " #   Column      Non-Null Count  Dtype \n",
      "---  ------      --------------  ----- \n",
      " 0   Unnamed: 0  1999 non-null   int64 \n",
      " 1   Text        1999 non-null   object\n",
      "dtypes: int64(1), object(1)\n",
      "memory usage: 31.4+ KB\n"
     ]
    }
   ],
   "source": [
    "# information about file\n",
    "Elon.info()"
   ]
  },
  {
   "cell_type": "code",
   "execution_count": 18,
   "id": "7a1c6fe5",
   "metadata": {},
   "outputs": [
    {
     "data": {
      "text/plain": [
       "0"
      ]
     },
     "execution_count": 18,
     "metadata": {},
     "output_type": "execute_result"
    }
   ],
   "source": [
    "# checking for duplicate values\n",
    "Elon.duplicated().sum()"
   ]
  },
  {
   "cell_type": "code",
   "execution_count": 19,
   "id": "d0be9d28",
   "metadata": {},
   "outputs": [
    {
     "data": {
      "text/plain": [
       "Unnamed: 0  Text                                                                                                                                            \n",
       "1           @kunalb11 Im an alien                                                                                                                              1\n",
       "1329        @wintonARK True                                                                                                                                     1\n",
       "1342        A la guerre comme à la guerre                                                                                                                       1\n",
       "1341        @Erdayastronaut @PPathole @SpaceX Were pretty close to the manufacturing size limit for a milled copper &amp; steel ja\n",
       " https://t.co/T8d3yN4xRy    1\n",
       "1340        @Teslarati Rawlinson didnt design Model S. Prototype was done before he joined &amp; he left us in the lurch just as t\n",
       " https://t.co/oy9yVM84xm    1\n",
       "                                                                                                                                                               ..\n",
       "662         @josh_bickett @ICannot_Enough @Erdayastronaut @rweb11742 Yeah, PCR Ct was unequivocal at &lt;20. Doesnt matter what m\n",
       " https://t.co/YJdogoKX8Q     1\n",
       "661         @parstalberg @josh_bickett @ICannot_Enough @Erdayastronaut @rweb11742 Yes, but from a visiting American. Ah, the irony is just too much!!           1\n",
       "660         @Erdayastronaut @rweb11742 Merlin is a strong local maximum design, but kerosene is suboptimal fuel, no matter what\n",
       " https://t.co/JoetYsKGp7        1\n",
       "659         @speculawyer @Erdayastronaut @rweb11742 Exactly                                                                                                     1\n",
       "1999        Progress update August 28                                                                                                                           1\n",
       "Length: 1999, dtype: int64"
      ]
     },
     "execution_count": 19,
     "metadata": {},
     "output_type": "execute_result"
    }
   ],
   "source": [
    "Elon.value_counts()"
   ]
  },
  {
   "cell_type": "markdown",
   "id": "23b69f6d",
   "metadata": {},
   "source": [
    "## Preprocessing Steps"
   ]
  },
  {
   "cell_type": "markdown",
   "id": "928f275a",
   "metadata": {},
   "source": [
    "### 1.Removing space and symbols"
   ]
  },
  {
   "cell_type": "code",
   "execution_count": 20,
   "id": "78c2d402",
   "metadata": {},
   "outputs": [],
   "source": [
    "# removing space and symbol from text\n",
    "Elon.Text=Elon.Text.apply(lambda x: re.sub('[^a-zA-Z ]', \"\", x))  "
   ]
  },
  {
   "cell_type": "code",
   "execution_count": 21,
   "id": "34e4213f",
   "metadata": {},
   "outputs": [
    {
     "data": {
      "text/plain": [
       "0                                   kunalb Im an alien\n",
       "1    IDAACarmack Ray tracing on Cyberpunk with HDR ...\n",
       "2                     joerogan Spotify Great interview\n",
       "3                         gtera Doge is underestimated\n",
       "4    teslacn Congratulations Tesla China for amazin...\n",
       "Name: Text, dtype: object"
      ]
     },
     "execution_count": 21,
     "metadata": {},
     "output_type": "execute_result"
    }
   ],
   "source": [
    "Elon.Text.head()"
   ]
  },
  {
   "cell_type": "code",
   "execution_count": 22,
   "id": "8a8e167c",
   "metadata": {},
   "outputs": [
    {
     "data": {
      "text/plain": [
       "'Are you good '"
      ]
     },
     "execution_count": 22,
     "metadata": {},
     "output_type": "execute_result"
    }
   ],
   "source": [
    "re.sub('[^a-zA-Z ]', \"\", \"Are you %%%good!!!! ;\") "
   ]
  },
  {
   "cell_type": "code",
   "execution_count": 23,
   "id": "21fc733a",
   "metadata": {},
   "outputs": [
    {
     "data": {
      "text/html": [
       "<div>\n",
       "<style scoped>\n",
       "    .dataframe tbody tr th:only-of-type {\n",
       "        vertical-align: middle;\n",
       "    }\n",
       "\n",
       "    .dataframe tbody tr th {\n",
       "        vertical-align: top;\n",
       "    }\n",
       "\n",
       "    .dataframe thead th {\n",
       "        text-align: right;\n",
       "    }\n",
       "</style>\n",
       "<table border=\"1\" class=\"dataframe\">\n",
       "  <thead>\n",
       "    <tr style=\"text-align: right;\">\n",
       "      <th></th>\n",
       "      <th>Unnamed: 0</th>\n",
       "      <th>Text</th>\n",
       "    </tr>\n",
       "  </thead>\n",
       "  <tbody>\n",
       "    <tr>\n",
       "      <th>0</th>\n",
       "      <td>1</td>\n",
       "      <td>kunalb Im an alien</td>\n",
       "    </tr>\n",
       "    <tr>\n",
       "      <th>1</th>\n",
       "      <td>2</td>\n",
       "      <td>IDAACarmack Ray tracing on Cyberpunk with HDR ...</td>\n",
       "    </tr>\n",
       "    <tr>\n",
       "      <th>2</th>\n",
       "      <td>3</td>\n",
       "      <td>joerogan Spotify Great interview</td>\n",
       "    </tr>\n",
       "    <tr>\n",
       "      <th>3</th>\n",
       "      <td>4</td>\n",
       "      <td>gtera Doge is underestimated</td>\n",
       "    </tr>\n",
       "    <tr>\n",
       "      <th>4</th>\n",
       "      <td>5</td>\n",
       "      <td>teslacn Congratulations Tesla China for amazin...</td>\n",
       "    </tr>\n",
       "  </tbody>\n",
       "</table>\n",
       "</div>"
      ],
      "text/plain": [
       "   Unnamed: 0                                               Text\n",
       "0           1                                 kunalb Im an alien\n",
       "1           2  IDAACarmack Ray tracing on Cyberpunk with HDR ...\n",
       "2           3                   joerogan Spotify Great interview\n",
       "3           4                       gtera Doge is underestimated\n",
       "4           5  teslacn Congratulations Tesla China for amazin..."
      ]
     },
     "execution_count": 23,
     "metadata": {},
     "output_type": "execute_result"
    }
   ],
   "source": [
    "Elon.head()"
   ]
  },
  {
   "cell_type": "markdown",
   "id": "5774a13f",
   "metadata": {},
   "source": [
    "### 2.Convert into lower case"
   ]
  },
  {
   "cell_type": "code",
   "execution_count": 24,
   "id": "fab591ff",
   "metadata": {},
   "outputs": [],
   "source": [
    "Elon.Text=Elon.Text.apply(lambda x: x.lower())"
   ]
  },
  {
   "cell_type": "code",
   "execution_count": 25,
   "id": "dc50d4ad",
   "metadata": {},
   "outputs": [
    {
     "data": {
      "text/plain": [
       "0                                      kunalb im an alien\n",
       "1       idaacarmack ray tracing on cyberpunk with hdr ...\n",
       "2                        joerogan spotify great interview\n",
       "3                            gtera doge is underestimated\n",
       "4       teslacn congratulations tesla china for amazin...\n",
       "                              ...                        \n",
       "1994    flcnhvy true it sounds so surreal but the nega...\n",
       "1995    ppathole make sure to read ur terms amp condit...\n",
       "1996                    teslagong ppathole samwise gamgee\n",
       "1997               ppathole altho dumb and dumber is ufuf\n",
       "1998                              progress update august \n",
       "Name: Text, Length: 1999, dtype: object"
      ]
     },
     "execution_count": 25,
     "metadata": {},
     "output_type": "execute_result"
    }
   ],
   "source": [
    "Elon.Text"
   ]
  },
  {
   "cell_type": "markdown",
   "id": "0675798f",
   "metadata": {},
   "source": [
    "### 3.Splitting words from sentence"
   ]
  },
  {
   "cell_type": "code",
   "execution_count": 26,
   "id": "b2b75425",
   "metadata": {},
   "outputs": [],
   "source": [
    "Elon.Text=Elon.Text.apply(lambda x: x.split())"
   ]
  },
  {
   "cell_type": "code",
   "execution_count": 27,
   "id": "51ea38f8",
   "metadata": {},
   "outputs": [
    {
     "data": {
      "text/html": [
       "<div>\n",
       "<style scoped>\n",
       "    .dataframe tbody tr th:only-of-type {\n",
       "        vertical-align: middle;\n",
       "    }\n",
       "\n",
       "    .dataframe tbody tr th {\n",
       "        vertical-align: top;\n",
       "    }\n",
       "\n",
       "    .dataframe thead th {\n",
       "        text-align: right;\n",
       "    }\n",
       "</style>\n",
       "<table border=\"1\" class=\"dataframe\">\n",
       "  <thead>\n",
       "    <tr style=\"text-align: right;\">\n",
       "      <th></th>\n",
       "      <th>Unnamed: 0</th>\n",
       "      <th>Text</th>\n",
       "    </tr>\n",
       "  </thead>\n",
       "  <tbody>\n",
       "    <tr>\n",
       "      <th>0</th>\n",
       "      <td>1</td>\n",
       "      <td>[kunalb, im, an, alien]</td>\n",
       "    </tr>\n",
       "    <tr>\n",
       "      <th>1</th>\n",
       "      <td>2</td>\n",
       "      <td>[idaacarmack, ray, tracing, on, cyberpunk, wit...</td>\n",
       "    </tr>\n",
       "    <tr>\n",
       "      <th>2</th>\n",
       "      <td>3</td>\n",
       "      <td>[joerogan, spotify, great, interview]</td>\n",
       "    </tr>\n",
       "    <tr>\n",
       "      <th>3</th>\n",
       "      <td>4</td>\n",
       "      <td>[gtera, doge, is, underestimated]</td>\n",
       "    </tr>\n",
       "    <tr>\n",
       "      <th>4</th>\n",
       "      <td>5</td>\n",
       "      <td>[teslacn, congratulations, tesla, china, for, ...</td>\n",
       "    </tr>\n",
       "  </tbody>\n",
       "</table>\n",
       "</div>"
      ],
      "text/plain": [
       "   Unnamed: 0                                               Text\n",
       "0           1                            [kunalb, im, an, alien]\n",
       "1           2  [idaacarmack, ray, tracing, on, cyberpunk, wit...\n",
       "2           3              [joerogan, spotify, great, interview]\n",
       "3           4                  [gtera, doge, is, underestimated]\n",
       "4           5  [teslacn, congratulations, tesla, china, for, ..."
      ]
     },
     "execution_count": 27,
     "metadata": {},
     "output_type": "execute_result"
    }
   ],
   "source": [
    "Elon.head()"
   ]
  },
  {
   "cell_type": "markdown",
   "id": "834ea1c9",
   "metadata": {},
   "source": [
    "### importing stopwards"
   ]
  },
  {
   "cell_type": "code",
   "execution_count": 31,
   "id": "bdce192b",
   "metadata": {},
   "outputs": [
    {
     "name": "stderr",
     "output_type": "stream",
     "text": [
      "[nltk_data] Downloading package stopwords to C:\\Users\\Sayali\n",
      "[nltk_data]     Hatwar\\AppData\\Roaming\\nltk_data...\n",
      "[nltk_data]   Package stopwords is already up-to-date!\n"
     ]
    },
    {
     "data": {
      "text/plain": [
       "True"
      ]
     },
     "execution_count": 31,
     "metadata": {},
     "output_type": "execute_result"
    }
   ],
   "source": [
    "\n",
    "import nltk   \n",
    "from nltk.corpus import stopwords  \n",
    "from nltk.stem.porter import PorterStemmer\n",
    "nltk.download('stopwords')"
   ]
  },
  {
   "cell_type": "code",
   "execution_count": 32,
   "id": "ebfad23a",
   "metadata": {},
   "outputs": [
    {
     "data": {
      "text/plain": [
       "['i',\n",
       " 'me',\n",
       " 'my',\n",
       " 'myself',\n",
       " 'we',\n",
       " 'our',\n",
       " 'ours',\n",
       " 'ourselves',\n",
       " 'you',\n",
       " \"you're\",\n",
       " \"you've\",\n",
       " \"you'll\",\n",
       " \"you'd\",\n",
       " 'your',\n",
       " 'yours',\n",
       " 'yourself',\n",
       " 'yourselves',\n",
       " 'he',\n",
       " 'him',\n",
       " 'his',\n",
       " 'himself',\n",
       " 'she',\n",
       " \"she's\",\n",
       " 'her',\n",
       " 'hers',\n",
       " 'herself',\n",
       " 'it',\n",
       " \"it's\",\n",
       " 'its',\n",
       " 'itself',\n",
       " 'they',\n",
       " 'them',\n",
       " 'their',\n",
       " 'theirs',\n",
       " 'themselves',\n",
       " 'what',\n",
       " 'which',\n",
       " 'who',\n",
       " 'whom',\n",
       " 'this',\n",
       " 'that',\n",
       " \"that'll\",\n",
       " 'these',\n",
       " 'those',\n",
       " 'am',\n",
       " 'is',\n",
       " 'are',\n",
       " 'was',\n",
       " 'were',\n",
       " 'be',\n",
       " 'been',\n",
       " 'being',\n",
       " 'have',\n",
       " 'has',\n",
       " 'had',\n",
       " 'having',\n",
       " 'do',\n",
       " 'does',\n",
       " 'did',\n",
       " 'doing',\n",
       " 'a',\n",
       " 'an',\n",
       " 'the',\n",
       " 'and',\n",
       " 'but',\n",
       " 'if',\n",
       " 'or',\n",
       " 'because',\n",
       " 'as',\n",
       " 'until',\n",
       " 'while',\n",
       " 'of',\n",
       " 'at',\n",
       " 'by',\n",
       " 'for',\n",
       " 'with',\n",
       " 'about',\n",
       " 'against',\n",
       " 'between',\n",
       " 'into',\n",
       " 'through',\n",
       " 'during',\n",
       " 'before',\n",
       " 'after',\n",
       " 'above',\n",
       " 'below',\n",
       " 'to',\n",
       " 'from',\n",
       " 'up',\n",
       " 'down',\n",
       " 'in',\n",
       " 'out',\n",
       " 'on',\n",
       " 'off',\n",
       " 'over',\n",
       " 'under',\n",
       " 'again',\n",
       " 'further',\n",
       " 'then',\n",
       " 'once',\n",
       " 'here',\n",
       " 'there',\n",
       " 'when',\n",
       " 'where',\n",
       " 'why',\n",
       " 'how',\n",
       " 'all',\n",
       " 'any',\n",
       " 'both',\n",
       " 'each',\n",
       " 'few',\n",
       " 'more',\n",
       " 'most',\n",
       " 'other',\n",
       " 'some',\n",
       " 'such',\n",
       " 'no',\n",
       " 'nor',\n",
       " 'not',\n",
       " 'only',\n",
       " 'own',\n",
       " 'same',\n",
       " 'so',\n",
       " 'than',\n",
       " 'too',\n",
       " 'very',\n",
       " 's',\n",
       " 't',\n",
       " 'can',\n",
       " 'will',\n",
       " 'just',\n",
       " 'don',\n",
       " \"don't\",\n",
       " 'should',\n",
       " \"should've\",\n",
       " 'now',\n",
       " 'd',\n",
       " 'll',\n",
       " 'm',\n",
       " 'o',\n",
       " 're',\n",
       " 've',\n",
       " 'y',\n",
       " 'ain',\n",
       " 'aren',\n",
       " \"aren't\",\n",
       " 'couldn',\n",
       " \"couldn't\",\n",
       " 'didn',\n",
       " \"didn't\",\n",
       " 'doesn',\n",
       " \"doesn't\",\n",
       " 'hadn',\n",
       " \"hadn't\",\n",
       " 'hasn',\n",
       " \"hasn't\",\n",
       " 'haven',\n",
       " \"haven't\",\n",
       " 'isn',\n",
       " \"isn't\",\n",
       " 'ma',\n",
       " 'mightn',\n",
       " \"mightn't\",\n",
       " 'mustn',\n",
       " \"mustn't\",\n",
       " 'needn',\n",
       " \"needn't\",\n",
       " 'shan',\n",
       " \"shan't\",\n",
       " 'shouldn',\n",
       " \"shouldn't\",\n",
       " 'wasn',\n",
       " \"wasn't\",\n",
       " 'weren',\n",
       " \"weren't\",\n",
       " 'won',\n",
       " \"won't\",\n",
       " 'wouldn',\n",
       " \"wouldn't\"]"
      ]
     },
     "execution_count": 32,
     "metadata": {},
     "output_type": "execute_result"
    }
   ],
   "source": [
    "# Stopwards of english\n",
    "stopwords.words(\"english\")"
   ]
  },
  {
   "cell_type": "markdown",
   "id": "23911dcc",
   "metadata": {},
   "source": [
    "### 4.Removing stopwards"
   ]
  },
  {
   "cell_type": "code",
   "execution_count": 33,
   "id": "bc125ee1",
   "metadata": {},
   "outputs": [],
   "source": [
    "Elon.Text=Elon.Text.apply(lambda x: [word  for word in x if word not in set(stopwords.words('english'))])"
   ]
  },
  {
   "cell_type": "code",
   "execution_count": 34,
   "id": "2c7ea148",
   "metadata": {},
   "outputs": [
    {
     "data": {
      "text/plain": [
       "0                                  [kunalb, im, alien]\n",
       "1    [idaacarmack, ray, tracing, cyberpunk, hdr, ne...\n",
       "2                [joerogan, spotify, great, interview]\n",
       "3                        [gtera, doge, underestimated]\n",
       "4    [teslacn, congratulations, tesla, china, amazi...\n",
       "Name: Text, dtype: object"
      ]
     },
     "execution_count": 34,
     "metadata": {},
     "output_type": "execute_result"
    }
   ],
   "source": [
    "Elon.Text.head()"
   ]
  },
  {
   "cell_type": "markdown",
   "id": "87ac11a3",
   "metadata": {},
   "source": [
    "### 5.Stemming line\n",
    "\n",
    "1. Stemming is a natural language processing technique used to reduce words to their base or root form, known as the \"stem.\" \n",
    "2. The process involves removing suffixes and prefixes from words to obtain the core meaning or root of the word. Stemming is commonly used to normalize words in various applications, such as information retrieval, search engines, and text analysis."
   ]
  },
  {
   "cell_type": "code",
   "execution_count": 35,
   "id": "159fe0a9",
   "metadata": {},
   "outputs": [],
   "source": [
    "ps = PorterStemmer()  \n",
    "Elon.Text=Elon.Text.apply(lambda x: [ps.stem(word) for word in x])"
   ]
  },
  {
   "cell_type": "code",
   "execution_count": 36,
   "id": "d5016791",
   "metadata": {},
   "outputs": [
    {
     "data": {
      "text/plain": [
       "0                                  [kunalb, im, alien]\n",
       "1    [idaacarmack, ray, trace, cyberpunk, hdr, next...\n",
       "2                [joerogan, spotifi, great, interview]\n",
       "3                            [gtera, doge, underestim]\n",
       "4    [teslacn, congratul, tesla, china, amaz, execu...\n",
       "Name: Text, dtype: object"
      ]
     },
     "execution_count": 36,
     "metadata": {},
     "output_type": "execute_result"
    }
   ],
   "source": [
    "Elon.Text.head()"
   ]
  },
  {
   "cell_type": "markdown",
   "id": "2fc0a66b",
   "metadata": {},
   "source": [
    "### 6.Rejoining"
   ]
  },
  {
   "cell_type": "code",
   "execution_count": 37,
   "id": "f9cdef9d",
   "metadata": {},
   "outputs": [],
   "source": [
    "Elon.Text=Elon.Text.apply(lambda x: \" \".join(x))"
   ]
  },
  {
   "cell_type": "code",
   "execution_count": 38,
   "id": "97550d41",
   "metadata": {},
   "outputs": [
    {
     "data": {
      "text/plain": [
       "0                                         kunalb im alien\n",
       "1       idaacarmack ray trace cyberpunk hdr nextlevel tri\n",
       "2                        joerogan spotifi great interview\n",
       "3                                   gtera doge underestim\n",
       "4       teslacn congratul tesla china amaz execut last...\n",
       "                              ...                        \n",
       "1994    flcnhvi true sound surreal neg propaganda stil...\n",
       "1995    ppathol make sure read ur term amp condit clic...\n",
       "1996                       teslagong ppathol samwis gamge\n",
       "1997                       ppathol altho dumb dumber ufuf\n",
       "1998                                progress updat august\n",
       "Name: Text, Length: 1999, dtype: object"
      ]
     },
     "execution_count": 38,
     "metadata": {},
     "output_type": "execute_result"
    }
   ],
   "source": [
    "Elon.Text"
   ]
  },
  {
   "cell_type": "markdown",
   "id": "c175a49e",
   "metadata": {},
   "source": [
    "# Sentimental Analysis\n",
    "\n",
    "Sentiment analysis is a natural language processing (NLP) technique used to determine the emotional tone or sentiment expressed in a piece of text. It involves using machine learning and linguistic techniques to classify the sentiment of a text as positive, negative, neutral, or sometimes more fine-grained emotions like happy, sad, angry, etc."
   ]
  },
  {
   "cell_type": "code",
   "execution_count": 39,
   "id": "90c8854a",
   "metadata": {},
   "outputs": [
    {
     "name": "stdout",
     "output_type": "stream",
     "text": [
      "Requirement already satisfied: textblob in c:\\users\\sayali hatwar\\anaconda3\\aaa\\lib\\site-packages (0.17.1)\n",
      "Requirement already satisfied: nltk>=3.1 in c:\\users\\sayali hatwar\\anaconda3\\aaa\\lib\\site-packages (from textblob) (3.7)\n",
      "Requirement already satisfied: regex>=2021.8.3 in c:\\users\\sayali hatwar\\anaconda3\\aaa\\lib\\site-packages (from nltk>=3.1->textblob) (2022.3.15)\n",
      "Requirement already satisfied: tqdm in c:\\users\\sayali hatwar\\anaconda3\\aaa\\lib\\site-packages (from nltk>=3.1->textblob) (4.64.0)\n",
      "Requirement already satisfied: joblib in c:\\users\\sayali hatwar\\anaconda3\\aaa\\lib\\site-packages (from nltk>=3.1->textblob) (1.1.0)\n",
      "Requirement already satisfied: click in c:\\users\\sayali hatwar\\anaconda3\\aaa\\lib\\site-packages (from nltk>=3.1->textblob) (8.0.4)\n",
      "Requirement already satisfied: colorama in c:\\users\\sayali hatwar\\anaconda3\\aaa\\lib\\site-packages (from click->nltk>=3.1->textblob) (0.4.4)\n",
      "Note: you may need to restart the kernel to use updated packages.\n"
     ]
    }
   ],
   "source": [
    "pip install -U textblob"
   ]
  },
  {
   "cell_type": "code",
   "execution_count": 40,
   "id": "87bdd685",
   "metadata": {},
   "outputs": [
    {
     "data": {
      "text/html": [
       "<div>\n",
       "<style scoped>\n",
       "    .dataframe tbody tr th:only-of-type {\n",
       "        vertical-align: middle;\n",
       "    }\n",
       "\n",
       "    .dataframe tbody tr th {\n",
       "        vertical-align: top;\n",
       "    }\n",
       "\n",
       "    .dataframe thead th {\n",
       "        text-align: right;\n",
       "    }\n",
       "</style>\n",
       "<table border=\"1\" class=\"dataframe\">\n",
       "  <thead>\n",
       "    <tr style=\"text-align: right;\">\n",
       "      <th></th>\n",
       "      <th>Text</th>\n",
       "      <th>sentiment</th>\n",
       "    </tr>\n",
       "  </thead>\n",
       "  <tbody>\n",
       "    <tr>\n",
       "      <th>0</th>\n",
       "      <td>kunalb im alien</td>\n",
       "      <td>-0.25</td>\n",
       "    </tr>\n",
       "    <tr>\n",
       "      <th>1</th>\n",
       "      <td>idaacarmack ray trace cyberpunk hdr nextlevel tri</td>\n",
       "      <td>0.00</td>\n",
       "    </tr>\n",
       "    <tr>\n",
       "      <th>2</th>\n",
       "      <td>joerogan spotifi great interview</td>\n",
       "      <td>0.80</td>\n",
       "    </tr>\n",
       "    <tr>\n",
       "      <th>3</th>\n",
       "      <td>gtera doge underestim</td>\n",
       "      <td>0.00</td>\n",
       "    </tr>\n",
       "    <tr>\n",
       "      <th>4</th>\n",
       "      <td>teslacn congratul tesla china amaz execut last...</td>\n",
       "      <td>0.00</td>\n",
       "    </tr>\n",
       "  </tbody>\n",
       "</table>\n",
       "</div>"
      ],
      "text/plain": [
       "                                                Text  sentiment\n",
       "0                                    kunalb im alien      -0.25\n",
       "1  idaacarmack ray trace cyberpunk hdr nextlevel tri       0.00\n",
       "2                   joerogan spotifi great interview       0.80\n",
       "3                              gtera doge underestim       0.00\n",
       "4  teslacn congratul tesla china amaz execut last...       0.00"
      ]
     },
     "execution_count": 40,
     "metadata": {},
     "output_type": "execute_result"
    }
   ],
   "source": [
    "# analysing the statement\n",
    "from textblob import TextBlob\n",
    "Elon['sentiment'] = Elon['Text'].apply(lambda x:TextBlob(x).sentiment[0] )\n",
    "Elon[['Text','sentiment']].head()\n",
    "# TextBlob(x).sentiment[0]=sentiment[1]=negative and positive[0] and only positive is[1]"
   ]
  },
  {
   "cell_type": "code",
   "execution_count": 41,
   "id": "5747b95d",
   "metadata": {},
   "outputs": [
    {
     "data": {
      "text/plain": [
       "0      -0.250000\n",
       "1       0.000000\n",
       "2       0.800000\n",
       "3       0.000000\n",
       "4       0.000000\n",
       "          ...   \n",
       "1994    0.186667\n",
       "1995    0.500000\n",
       "1996    0.000000\n",
       "1997   -0.375000\n",
       "1998    0.000000\n",
       "Name: sentiment, Length: 1999, dtype: float64"
      ]
     },
     "execution_count": 41,
     "metadata": {},
     "output_type": "execute_result"
    }
   ],
   "source": [
    "Elon.sentiment"
   ]
  },
  {
   "cell_type": "code",
   "execution_count": null,
   "id": "b7093a38",
   "metadata": {},
   "outputs": [],
   "source": []
  },
  {
   "cell_type": "code",
   "execution_count": null,
   "id": "03e63ac4",
   "metadata": {},
   "outputs": [],
   "source": []
  },
  {
   "cell_type": "markdown",
   "id": "d4dca9b2",
   "metadata": {},
   "source": [
    "# Problem statement 2:\n",
    "\n",
    "1) Extract reviews of any product from ecommerce website like amazon\n",
    "\n",
    "2) Perform emotion mining\n"
   ]
  },
  {
   "cell_type": "markdown",
   "id": "4a76a4d5",
   "metadata": {},
   "source": [
    "## Importing libraries"
   ]
  },
  {
   "cell_type": "code",
   "execution_count": 42,
   "id": "c884c6af",
   "metadata": {},
   "outputs": [],
   "source": [
    "# importing libraries\n",
    "import pandas as pd\n",
    "import numpy as np\n",
    "import matplotlib.pyplot as plt\n",
    "%matplotlib inline\n",
    "import seaborn as sns\n",
    "import requests\n",
    "from bs4 import BeautifulSoup\n"
   ]
  },
  {
   "cell_type": "markdown",
   "id": "80aa12ba",
   "metadata": {},
   "source": [
    "## Scraping reviews using BeautifulSoup"
   ]
  },
  {
   "cell_type": "code",
   "execution_count": 43,
   "id": "fd690226",
   "metadata": {},
   "outputs": [],
   "source": [
    "# Review of pregnancy cloths\n",
    "link=\"https://www.amazon.in/MomToBe-Maternity-Pregnancy-Breastfeeding-Pregnancy/product-reviews/B08Y6VHLR9/ref=cm_cr_dp_d_show_all_btm?ie=UTF8&reviewerType=all_reviews\""
   ]
  },
  {
   "cell_type": "code",
   "execution_count": 44,
   "id": "0a1aa6e2",
   "metadata": {},
   "outputs": [
    {
     "name": "stdout",
     "output_type": "stream",
     "text": [
      "https://www.amazon.in/MomToBe-Maternity-Pregnancy-Breastfeeding-Pregnancy/product-reviews/B08Y6VHLR9/ref=cm_cr_dp_d_show_all_btm?ie=UTF8&reviewerType=all_reviews&pageNumber=0\n",
      "https://www.amazon.in/MomToBe-Maternity-Pregnancy-Breastfeeding-Pregnancy/product-reviews/B08Y6VHLR9/ref=cm_cr_dp_d_show_all_btm?ie=UTF8&reviewerType=all_reviews&pageNumber=1\n",
      "https://www.amazon.in/MomToBe-Maternity-Pregnancy-Breastfeeding-Pregnancy/product-reviews/B08Y6VHLR9/ref=cm_cr_dp_d_show_all_btm?ie=UTF8&reviewerType=all_reviews&pageNumber=2\n",
      "https://www.amazon.in/MomToBe-Maternity-Pregnancy-Breastfeeding-Pregnancy/product-reviews/B08Y6VHLR9/ref=cm_cr_dp_d_show_all_btm?ie=UTF8&reviewerType=all_reviews&pageNumber=3\n",
      "https://www.amazon.in/MomToBe-Maternity-Pregnancy-Breastfeeding-Pregnancy/product-reviews/B08Y6VHLR9/ref=cm_cr_dp_d_show_all_btm?ie=UTF8&reviewerType=all_reviews&pageNumber=4\n",
      "https://www.amazon.in/MomToBe-Maternity-Pregnancy-Breastfeeding-Pregnancy/product-reviews/B08Y6VHLR9/ref=cm_cr_dp_d_show_all_btm?ie=UTF8&reviewerType=all_reviews&pageNumber=5\n",
      "https://www.amazon.in/MomToBe-Maternity-Pregnancy-Breastfeeding-Pregnancy/product-reviews/B08Y6VHLR9/ref=cm_cr_dp_d_show_all_btm?ie=UTF8&reviewerType=all_reviews&pageNumber=6\n"
     ]
    }
   ],
   "source": [
    "# function showing all review list\n",
    "review_list=[]\n",
    "\n",
    "for k in range(0,7):\n",
    "    review_link=link+'&pageNumber='+str(k)\n",
    "    print(review_link)\n",
    "    page=requests.get(review_link)\n",
    "    soup=BeautifulSoup(page.content,'html.parser')\n",
    "    reviews=soup.find_all('span',class_='review-text-content')\n",
    "    \n",
    "    for i in range(0,len(reviews)):\n",
    "        \n",
    "        review_list.append(reviews[i].get_text().strip())\n",
    "        "
   ]
  },
  {
   "cell_type": "code",
   "execution_count": 45,
   "id": "dc405e23",
   "metadata": {},
   "outputs": [
    {
     "data": {
      "text/plain": [
       "['Colour was dark as shown in figure. fitting was also good . most importantly very comfortable to wear.',\n",
       " 'Very good material, dress is as shown in the picture',\n",
       " 'Beautiful 😍',\n",
       " 'Not like the product. SO MANY TIME AAPKIED FOR RETURN BUT NO ONE IS COMING TO RECEVIE. They shown on site that price tag is missing.I was added the photo where price tag is as it is.',\n",
       " 'Comfortable for feeding looks classy',\n",
       " 'The material of the dress is very good. Quality and design also good. I bought it for my pregnancy period and shall be using as maternity dress also.',\n",
       " 'Rest of the dress is fine and fitting okay. But the side pocket that was promised in the photos is missing. I definitely won’t buy more from this vendor.']"
      ]
     },
     "execution_count": 45,
     "metadata": {},
     "output_type": "execute_result"
    }
   ],
   "source": [
    "# Reviews\n",
    "review_list"
   ]
  },
  {
   "cell_type": "code",
   "execution_count": 46,
   "id": "1af76e6d",
   "metadata": {},
   "outputs": [
    {
     "data": {
      "text/plain": [
       "7"
      ]
     },
     "execution_count": 46,
     "metadata": {},
     "output_type": "execute_result"
    }
   ],
   "source": [
    "# length of review\n",
    "len(review_list)"
   ]
  },
  {
   "cell_type": "code",
   "execution_count": 66,
   "id": "d2d68101",
   "metadata": {},
   "outputs": [
    {
     "data": {
      "text/html": [
       "<div>\n",
       "<style scoped>\n",
       "    .dataframe tbody tr th:only-of-type {\n",
       "        vertical-align: middle;\n",
       "    }\n",
       "\n",
       "    .dataframe tbody tr th {\n",
       "        vertical-align: top;\n",
       "    }\n",
       "\n",
       "    .dataframe thead th {\n",
       "        text-align: right;\n",
       "    }\n",
       "</style>\n",
       "<table border=\"1\" class=\"dataframe\">\n",
       "  <thead>\n",
       "    <tr style=\"text-align: right;\">\n",
       "      <th></th>\n",
       "      <th>Reviews</th>\n",
       "    </tr>\n",
       "  </thead>\n",
       "  <tbody>\n",
       "    <tr>\n",
       "      <th>0</th>\n",
       "      <td>Colour was dark as shown in figure. fitting was also good . most importantly very comfortable to wear.</td>\n",
       "    </tr>\n",
       "    <tr>\n",
       "      <th>1</th>\n",
       "      <td>Very good material, dress is as shown in the picture</td>\n",
       "    </tr>\n",
       "    <tr>\n",
       "      <th>2</th>\n",
       "      <td>Beautiful 😍</td>\n",
       "    </tr>\n",
       "    <tr>\n",
       "      <th>3</th>\n",
       "      <td>Not like the product. SO MANY TIME AAPKIED FOR RETURN BUT NO ONE IS COMING TO RECEVIE. They shown on site that price tag is missing.I was added the photo where price tag is as it is.</td>\n",
       "    </tr>\n",
       "    <tr>\n",
       "      <th>4</th>\n",
       "      <td>Comfortable for feeding looks classy</td>\n",
       "    </tr>\n",
       "    <tr>\n",
       "      <th>5</th>\n",
       "      <td>The material of the dress is very good. Quality and design also good. I bought it for my pregnancy period and shall be using as maternity dress also.</td>\n",
       "    </tr>\n",
       "    <tr>\n",
       "      <th>6</th>\n",
       "      <td>Rest of the dress is fine and fitting okay. But the side pocket that was promised in the photos is missing. I definitely won’t buy more from this vendor.</td>\n",
       "    </tr>\n",
       "  </tbody>\n",
       "</table>\n",
       "</div>"
      ],
      "text/plain": [
       "                                                                                                                                                                                  Reviews\n",
       "0                                                                                  Colour was dark as shown in figure. fitting was also good . most importantly very comfortable to wear.\n",
       "1                                                                                                                                    Very good material, dress is as shown in the picture\n",
       "2                                                                                                                                                                             Beautiful 😍\n",
       "3  Not like the product. SO MANY TIME AAPKIED FOR RETURN BUT NO ONE IS COMING TO RECEVIE. They shown on site that price tag is missing.I was added the photo where price tag is as it is.\n",
       "4                                                                                                                                                    Comfortable for feeding looks classy\n",
       "5                                   The material of the dress is very good. Quality and design also good. I bought it for my pregnancy period and shall be using as maternity dress also.\n",
       "6                               Rest of the dress is fine and fitting okay. But the side pocket that was promised in the photos is missing. I definitely won’t buy more from this vendor."
      ]
     },
     "execution_count": 66,
     "metadata": {},
     "output_type": "execute_result"
    }
   ],
   "source": [
    "# Making daraframe\n",
    "review_df=pd.DataFrame({'Reviews':review_list})\n",
    "pd.set_option('max_colwidth', 500)\n",
    "review_df"
   ]
  },
  {
   "cell_type": "markdown",
   "id": "ec183537",
   "metadata": {},
   "source": [
    "## Proprocessing Steps"
   ]
  },
  {
   "cell_type": "markdown",
   "id": "24a91b39",
   "metadata": {},
   "source": [
    "### 1.Removing space and symbols"
   ]
  },
  {
   "cell_type": "code",
   "execution_count": 67,
   "id": "9a7b47a7",
   "metadata": {},
   "outputs": [],
   "source": [
    "review_df.Reviews=review_df.Reviews.apply(lambda x: re.sub('[^a-zA-Z ]', \"\", x))"
   ]
  },
  {
   "cell_type": "code",
   "execution_count": 68,
   "id": "75c97ee5",
   "metadata": {},
   "outputs": [
    {
     "data": {
      "text/html": [
       "<div>\n",
       "<style scoped>\n",
       "    .dataframe tbody tr th:only-of-type {\n",
       "        vertical-align: middle;\n",
       "    }\n",
       "\n",
       "    .dataframe tbody tr th {\n",
       "        vertical-align: top;\n",
       "    }\n",
       "\n",
       "    .dataframe thead th {\n",
       "        text-align: right;\n",
       "    }\n",
       "</style>\n",
       "<table border=\"1\" class=\"dataframe\">\n",
       "  <thead>\n",
       "    <tr style=\"text-align: right;\">\n",
       "      <th></th>\n",
       "      <th>Reviews</th>\n",
       "    </tr>\n",
       "  </thead>\n",
       "  <tbody>\n",
       "    <tr>\n",
       "      <th>0</th>\n",
       "      <td>Colour was dark as shown in figure fitting was also good  most importantly very comfortable to wear</td>\n",
       "    </tr>\n",
       "    <tr>\n",
       "      <th>1</th>\n",
       "      <td>Very good material dress is as shown in the picture</td>\n",
       "    </tr>\n",
       "    <tr>\n",
       "      <th>2</th>\n",
       "      <td>Beautiful</td>\n",
       "    </tr>\n",
       "    <tr>\n",
       "      <th>3</th>\n",
       "      <td>Not like the product SO MANY TIME AAPKIED FOR RETURN BUT NO ONE IS COMING TO RECEVIE They shown on site that price tag is missingI was added the photo where price tag is as it is</td>\n",
       "    </tr>\n",
       "    <tr>\n",
       "      <th>4</th>\n",
       "      <td>Comfortable for feeding looks classy</td>\n",
       "    </tr>\n",
       "    <tr>\n",
       "      <th>5</th>\n",
       "      <td>The material of the dress is very good Quality and design also good I bought it for my pregnancy period and shall be using as maternity dress also</td>\n",
       "    </tr>\n",
       "    <tr>\n",
       "      <th>6</th>\n",
       "      <td>Rest of the dress is fine and fitting okay But the side pocket that was promised in the photos is missing I definitely wont buy more from this vendor</td>\n",
       "    </tr>\n",
       "  </tbody>\n",
       "</table>\n",
       "</div>"
      ],
      "text/plain": [
       "                                                                                                                                                                              Reviews\n",
       "0                                                                                 Colour was dark as shown in figure fitting was also good  most importantly very comfortable to wear\n",
       "1                                                                                                                                 Very good material dress is as shown in the picture\n",
       "2                                                                                                                                                                          Beautiful \n",
       "3  Not like the product SO MANY TIME AAPKIED FOR RETURN BUT NO ONE IS COMING TO RECEVIE They shown on site that price tag is missingI was added the photo where price tag is as it is\n",
       "4                                                                                                                                                Comfortable for feeding looks classy\n",
       "5                                  The material of the dress is very good Quality and design also good I bought it for my pregnancy period and shall be using as maternity dress also\n",
       "6                               Rest of the dress is fine and fitting okay But the side pocket that was promised in the photos is missing I definitely wont buy more from this vendor"
      ]
     },
     "execution_count": 68,
     "metadata": {},
     "output_type": "execute_result"
    }
   ],
   "source": [
    "review_df"
   ]
  },
  {
   "cell_type": "markdown",
   "id": "40ed4545",
   "metadata": {},
   "source": [
    "### 2.Converting words to lower case"
   ]
  },
  {
   "cell_type": "code",
   "execution_count": 69,
   "id": "ee19be7c",
   "metadata": {},
   "outputs": [],
   "source": [
    "review_df.Reviews=review_df.Reviews.apply(lambda x: x.lower())"
   ]
  },
  {
   "cell_type": "code",
   "execution_count": 70,
   "id": "edfa7b1f",
   "metadata": {},
   "outputs": [
    {
     "data": {
      "text/html": [
       "<div>\n",
       "<style scoped>\n",
       "    .dataframe tbody tr th:only-of-type {\n",
       "        vertical-align: middle;\n",
       "    }\n",
       "\n",
       "    .dataframe tbody tr th {\n",
       "        vertical-align: top;\n",
       "    }\n",
       "\n",
       "    .dataframe thead th {\n",
       "        text-align: right;\n",
       "    }\n",
       "</style>\n",
       "<table border=\"1\" class=\"dataframe\">\n",
       "  <thead>\n",
       "    <tr style=\"text-align: right;\">\n",
       "      <th></th>\n",
       "      <th>Reviews</th>\n",
       "    </tr>\n",
       "  </thead>\n",
       "  <tbody>\n",
       "    <tr>\n",
       "      <th>0</th>\n",
       "      <td>colour was dark as shown in figure fitting was also good  most importantly very comfortable to wear</td>\n",
       "    </tr>\n",
       "    <tr>\n",
       "      <th>1</th>\n",
       "      <td>very good material dress is as shown in the picture</td>\n",
       "    </tr>\n",
       "    <tr>\n",
       "      <th>2</th>\n",
       "      <td>beautiful</td>\n",
       "    </tr>\n",
       "    <tr>\n",
       "      <th>3</th>\n",
       "      <td>not like the product so many time aapkied for return but no one is coming to recevie they shown on site that price tag is missingi was added the photo where price tag is as it is</td>\n",
       "    </tr>\n",
       "    <tr>\n",
       "      <th>4</th>\n",
       "      <td>comfortable for feeding looks classy</td>\n",
       "    </tr>\n",
       "    <tr>\n",
       "      <th>5</th>\n",
       "      <td>the material of the dress is very good quality and design also good i bought it for my pregnancy period and shall be using as maternity dress also</td>\n",
       "    </tr>\n",
       "    <tr>\n",
       "      <th>6</th>\n",
       "      <td>rest of the dress is fine and fitting okay but the side pocket that was promised in the photos is missing i definitely wont buy more from this vendor</td>\n",
       "    </tr>\n",
       "  </tbody>\n",
       "</table>\n",
       "</div>"
      ],
      "text/plain": [
       "                                                                                                                                                                              Reviews\n",
       "0                                                                                 colour was dark as shown in figure fitting was also good  most importantly very comfortable to wear\n",
       "1                                                                                                                                 very good material dress is as shown in the picture\n",
       "2                                                                                                                                                                          beautiful \n",
       "3  not like the product so many time aapkied for return but no one is coming to recevie they shown on site that price tag is missingi was added the photo where price tag is as it is\n",
       "4                                                                                                                                                comfortable for feeding looks classy\n",
       "5                                  the material of the dress is very good quality and design also good i bought it for my pregnancy period and shall be using as maternity dress also\n",
       "6                               rest of the dress is fine and fitting okay but the side pocket that was promised in the photos is missing i definitely wont buy more from this vendor"
      ]
     },
     "execution_count": 70,
     "metadata": {},
     "output_type": "execute_result"
    }
   ],
   "source": [
    "review_df"
   ]
  },
  {
   "cell_type": "markdown",
   "id": "707b1db2",
   "metadata": {},
   "source": [
    "### 3.Splitting word from sentence"
   ]
  },
  {
   "cell_type": "code",
   "execution_count": 71,
   "id": "b44c75d8",
   "metadata": {},
   "outputs": [],
   "source": [
    "review_df.Reviews=review_df.Reviews.apply(lambda x: x.split())"
   ]
  },
  {
   "cell_type": "code",
   "execution_count": 72,
   "id": "944e4caa",
   "metadata": {},
   "outputs": [
    {
     "data": {
      "text/html": [
       "<div>\n",
       "<style scoped>\n",
       "    .dataframe tbody tr th:only-of-type {\n",
       "        vertical-align: middle;\n",
       "    }\n",
       "\n",
       "    .dataframe tbody tr th {\n",
       "        vertical-align: top;\n",
       "    }\n",
       "\n",
       "    .dataframe thead th {\n",
       "        text-align: right;\n",
       "    }\n",
       "</style>\n",
       "<table border=\"1\" class=\"dataframe\">\n",
       "  <thead>\n",
       "    <tr style=\"text-align: right;\">\n",
       "      <th></th>\n",
       "      <th>Reviews</th>\n",
       "    </tr>\n",
       "  </thead>\n",
       "  <tbody>\n",
       "    <tr>\n",
       "      <th>0</th>\n",
       "      <td>[colour, was, dark, as, shown, in, figure, fitting, was, also, good, most, importantly, very, comfortable, to, wear]</td>\n",
       "    </tr>\n",
       "    <tr>\n",
       "      <th>1</th>\n",
       "      <td>[very, good, material, dress, is, as, shown, in, the, picture]</td>\n",
       "    </tr>\n",
       "    <tr>\n",
       "      <th>2</th>\n",
       "      <td>[beautiful]</td>\n",
       "    </tr>\n",
       "    <tr>\n",
       "      <th>3</th>\n",
       "      <td>[not, like, the, product, so, many, time, aapkied, for, return, but, no, one, is, coming, to, recevie, they, shown, on, site, that, price, tag, is, missingi, was, added, the, photo, where, price, tag, is, as, it, is]</td>\n",
       "    </tr>\n",
       "    <tr>\n",
       "      <th>4</th>\n",
       "      <td>[comfortable, for, feeding, looks, classy]</td>\n",
       "    </tr>\n",
       "    <tr>\n",
       "      <th>5</th>\n",
       "      <td>[the, material, of, the, dress, is, very, good, quality, and, design, also, good, i, bought, it, for, my, pregnancy, period, and, shall, be, using, as, maternity, dress, also]</td>\n",
       "    </tr>\n",
       "    <tr>\n",
       "      <th>6</th>\n",
       "      <td>[rest, of, the, dress, is, fine, and, fitting, okay, but, the, side, pocket, that, was, promised, in, the, photos, is, missing, i, definitely, wont, buy, more, from, this, vendor]</td>\n",
       "    </tr>\n",
       "  </tbody>\n",
       "</table>\n",
       "</div>"
      ],
      "text/plain": [
       "                                                                                                                                                                                                                    Reviews\n",
       "0                                                                                                      [colour, was, dark, as, shown, in, figure, fitting, was, also, good, most, importantly, very, comfortable, to, wear]\n",
       "1                                                                                                                                                            [very, good, material, dress, is, as, shown, in, the, picture]\n",
       "2                                                                                                                                                                                                               [beautiful]\n",
       "3  [not, like, the, product, so, many, time, aapkied, for, return, but, no, one, is, coming, to, recevie, they, shown, on, site, that, price, tag, is, missingi, was, added, the, photo, where, price, tag, is, as, it, is]\n",
       "4                                                                                                                                                                                [comfortable, for, feeding, looks, classy]\n",
       "5                                           [the, material, of, the, dress, is, very, good, quality, and, design, also, good, i, bought, it, for, my, pregnancy, period, and, shall, be, using, as, maternity, dress, also]\n",
       "6                                       [rest, of, the, dress, is, fine, and, fitting, okay, but, the, side, pocket, that, was, promised, in, the, photos, is, missing, i, definitely, wont, buy, more, from, this, vendor]"
      ]
     },
     "execution_count": 72,
     "metadata": {},
     "output_type": "execute_result"
    }
   ],
   "source": [
    "review_df"
   ]
  },
  {
   "cell_type": "code",
   "execution_count": 73,
   "id": "514641a7",
   "metadata": {},
   "outputs": [
    {
     "name": "stderr",
     "output_type": "stream",
     "text": [
      "[nltk_data] Downloading package stopwords to C:\\Users\\Sayali\n",
      "[nltk_data]     Hatwar\\AppData\\Roaming\\nltk_data...\n",
      "[nltk_data]   Package stopwords is already up-to-date!\n"
     ]
    }
   ],
   "source": [
    "# importing stopward and stemmer\n",
    "import nltk  \n",
    "nltk.download('stopwords') \n",
    "from nltk.corpus import stopwords  \n",
    "from nltk.stem.porter import PorterStemmer "
   ]
  },
  {
   "cell_type": "markdown",
   "id": "e742d250",
   "metadata": {},
   "source": [
    "### 4.Removing stop words"
   ]
  },
  {
   "cell_type": "code",
   "execution_count": 74,
   "id": "8d2a7494",
   "metadata": {},
   "outputs": [],
   "source": [
    "review_df.Reviews=review_df.Reviews.apply(lambda x: [word  for word in x if word not in set(stopwords.words('english'))])"
   ]
  },
  {
   "cell_type": "code",
   "execution_count": 75,
   "id": "84c2665c",
   "metadata": {},
   "outputs": [
    {
     "data": {
      "text/html": [
       "<div>\n",
       "<style scoped>\n",
       "    .dataframe tbody tr th:only-of-type {\n",
       "        vertical-align: middle;\n",
       "    }\n",
       "\n",
       "    .dataframe tbody tr th {\n",
       "        vertical-align: top;\n",
       "    }\n",
       "\n",
       "    .dataframe thead th {\n",
       "        text-align: right;\n",
       "    }\n",
       "</style>\n",
       "<table border=\"1\" class=\"dataframe\">\n",
       "  <thead>\n",
       "    <tr style=\"text-align: right;\">\n",
       "      <th></th>\n",
       "      <th>Reviews</th>\n",
       "    </tr>\n",
       "  </thead>\n",
       "  <tbody>\n",
       "    <tr>\n",
       "      <th>0</th>\n",
       "      <td>[colour, dark, shown, figure, fitting, also, good, importantly, comfortable, wear]</td>\n",
       "    </tr>\n",
       "    <tr>\n",
       "      <th>1</th>\n",
       "      <td>[good, material, dress, shown, picture]</td>\n",
       "    </tr>\n",
       "    <tr>\n",
       "      <th>2</th>\n",
       "      <td>[beautiful]</td>\n",
       "    </tr>\n",
       "    <tr>\n",
       "      <th>3</th>\n",
       "      <td>[like, product, many, time, aapkied, return, one, coming, recevie, shown, site, price, tag, missingi, added, photo, price, tag]</td>\n",
       "    </tr>\n",
       "    <tr>\n",
       "      <th>4</th>\n",
       "      <td>[comfortable, feeding, looks, classy]</td>\n",
       "    </tr>\n",
       "    <tr>\n",
       "      <th>5</th>\n",
       "      <td>[material, dress, good, quality, design, also, good, bought, pregnancy, period, shall, using, maternity, dress, also]</td>\n",
       "    </tr>\n",
       "    <tr>\n",
       "      <th>6</th>\n",
       "      <td>[rest, dress, fine, fitting, okay, side, pocket, promised, photos, missing, definitely, wont, buy, vendor]</td>\n",
       "    </tr>\n",
       "  </tbody>\n",
       "</table>\n",
       "</div>"
      ],
      "text/plain": [
       "                                                                                                                           Reviews\n",
       "0                                               [colour, dark, shown, figure, fitting, also, good, importantly, comfortable, wear]\n",
       "1                                                                                          [good, material, dress, shown, picture]\n",
       "2                                                                                                                      [beautiful]\n",
       "3  [like, product, many, time, aapkied, return, one, coming, recevie, shown, site, price, tag, missingi, added, photo, price, tag]\n",
       "4                                                                                            [comfortable, feeding, looks, classy]\n",
       "5            [material, dress, good, quality, design, also, good, bought, pregnancy, period, shall, using, maternity, dress, also]\n",
       "6                       [rest, dress, fine, fitting, okay, side, pocket, promised, photos, missing, definitely, wont, buy, vendor]"
      ]
     },
     "execution_count": 75,
     "metadata": {},
     "output_type": "execute_result"
    }
   ],
   "source": [
    "review_df"
   ]
  },
  {
   "cell_type": "markdown",
   "id": "64ef7907",
   "metadata": {},
   "source": [
    "### 5. Stemming line"
   ]
  },
  {
   "cell_type": "code",
   "execution_count": 76,
   "id": "2e6459c1",
   "metadata": {},
   "outputs": [],
   "source": [
    "ps = PorterStemmer()  \n",
    "review_df.Reviews=review_df.Reviews.apply(lambda x: [ps.stem(word) for word in x])"
   ]
  },
  {
   "cell_type": "code",
   "execution_count": 77,
   "id": "ce384e78",
   "metadata": {},
   "outputs": [
    {
     "data": {
      "text/html": [
       "<div>\n",
       "<style scoped>\n",
       "    .dataframe tbody tr th:only-of-type {\n",
       "        vertical-align: middle;\n",
       "    }\n",
       "\n",
       "    .dataframe tbody tr th {\n",
       "        vertical-align: top;\n",
       "    }\n",
       "\n",
       "    .dataframe thead th {\n",
       "        text-align: right;\n",
       "    }\n",
       "</style>\n",
       "<table border=\"1\" class=\"dataframe\">\n",
       "  <thead>\n",
       "    <tr style=\"text-align: right;\">\n",
       "      <th></th>\n",
       "      <th>Reviews</th>\n",
       "    </tr>\n",
       "  </thead>\n",
       "  <tbody>\n",
       "    <tr>\n",
       "      <th>0</th>\n",
       "      <td>[colour, dark, shown, figur, fit, also, good, importantli, comfort, wear]</td>\n",
       "    </tr>\n",
       "    <tr>\n",
       "      <th>1</th>\n",
       "      <td>[good, materi, dress, shown, pictur]</td>\n",
       "    </tr>\n",
       "    <tr>\n",
       "      <th>2</th>\n",
       "      <td>[beauti]</td>\n",
       "    </tr>\n",
       "    <tr>\n",
       "      <th>3</th>\n",
       "      <td>[like, product, mani, time, aapki, return, one, come, recevi, shown, site, price, tag, missingi, ad, photo, price, tag]</td>\n",
       "    </tr>\n",
       "    <tr>\n",
       "      <th>4</th>\n",
       "      <td>[comfort, feed, look, classi]</td>\n",
       "    </tr>\n",
       "    <tr>\n",
       "      <th>5</th>\n",
       "      <td>[materi, dress, good, qualiti, design, also, good, bought, pregnanc, period, shall, use, matern, dress, also]</td>\n",
       "    </tr>\n",
       "    <tr>\n",
       "      <th>6</th>\n",
       "      <td>[rest, dress, fine, fit, okay, side, pocket, promis, photo, miss, definit, wont, buy, vendor]</td>\n",
       "    </tr>\n",
       "  </tbody>\n",
       "</table>\n",
       "</div>"
      ],
      "text/plain": [
       "                                                                                                                   Reviews\n",
       "0                                                [colour, dark, shown, figur, fit, also, good, importantli, comfort, wear]\n",
       "1                                                                                     [good, materi, dress, shown, pictur]\n",
       "2                                                                                                                 [beauti]\n",
       "3  [like, product, mani, time, aapki, return, one, come, recevi, shown, site, price, tag, missingi, ad, photo, price, tag]\n",
       "4                                                                                            [comfort, feed, look, classi]\n",
       "5            [materi, dress, good, qualiti, design, also, good, bought, pregnanc, period, shall, use, matern, dress, also]\n",
       "6                            [rest, dress, fine, fit, okay, side, pocket, promis, photo, miss, definit, wont, buy, vendor]"
      ]
     },
     "execution_count": 77,
     "metadata": {},
     "output_type": "execute_result"
    }
   ],
   "source": [
    "review_df"
   ]
  },
  {
   "cell_type": "markdown",
   "id": "d80a44b5",
   "metadata": {},
   "source": [
    "### 6.Rejoining"
   ]
  },
  {
   "cell_type": "code",
   "execution_count": 78,
   "id": "06756e2e",
   "metadata": {},
   "outputs": [],
   "source": [
    "review_df.Reviews=review_df.Reviews.apply(lambda x: \" \".join(x))"
   ]
  },
  {
   "cell_type": "code",
   "execution_count": 79,
   "id": "3ede89c7",
   "metadata": {},
   "outputs": [
    {
     "data": {
      "text/html": [
       "<div>\n",
       "<style scoped>\n",
       "    .dataframe tbody tr th:only-of-type {\n",
       "        vertical-align: middle;\n",
       "    }\n",
       "\n",
       "    .dataframe tbody tr th {\n",
       "        vertical-align: top;\n",
       "    }\n",
       "\n",
       "    .dataframe thead th {\n",
       "        text-align: right;\n",
       "    }\n",
       "</style>\n",
       "<table border=\"1\" class=\"dataframe\">\n",
       "  <thead>\n",
       "    <tr style=\"text-align: right;\">\n",
       "      <th></th>\n",
       "      <th>Reviews</th>\n",
       "    </tr>\n",
       "  </thead>\n",
       "  <tbody>\n",
       "    <tr>\n",
       "      <th>0</th>\n",
       "      <td>colour dark shown figur fit also good importantli comfort wear</td>\n",
       "    </tr>\n",
       "    <tr>\n",
       "      <th>1</th>\n",
       "      <td>good materi dress shown pictur</td>\n",
       "    </tr>\n",
       "    <tr>\n",
       "      <th>2</th>\n",
       "      <td>beauti</td>\n",
       "    </tr>\n",
       "    <tr>\n",
       "      <th>3</th>\n",
       "      <td>like product mani time aapki return one come recevi shown site price tag missingi ad photo price tag</td>\n",
       "    </tr>\n",
       "    <tr>\n",
       "      <th>4</th>\n",
       "      <td>comfort feed look classi</td>\n",
       "    </tr>\n",
       "    <tr>\n",
       "      <th>5</th>\n",
       "      <td>materi dress good qualiti design also good bought pregnanc period shall use matern dress also</td>\n",
       "    </tr>\n",
       "    <tr>\n",
       "      <th>6</th>\n",
       "      <td>rest dress fine fit okay side pocket promis photo miss definit wont buy vendor</td>\n",
       "    </tr>\n",
       "  </tbody>\n",
       "</table>\n",
       "</div>"
      ],
      "text/plain": [
       "                                                                                                Reviews\n",
       "0                                        colour dark shown figur fit also good importantli comfort wear\n",
       "1                                                                        good materi dress shown pictur\n",
       "2                                                                                                beauti\n",
       "3  like product mani time aapki return one come recevi shown site price tag missingi ad photo price tag\n",
       "4                                                                              comfort feed look classi\n",
       "5         materi dress good qualiti design also good bought pregnanc period shall use matern dress also\n",
       "6                        rest dress fine fit okay side pocket promis photo miss definit wont buy vendor"
      ]
     },
     "execution_count": 79,
     "metadata": {},
     "output_type": "execute_result"
    }
   ],
   "source": [
    "review_df"
   ]
  },
  {
   "cell_type": "markdown",
   "id": "bb112824",
   "metadata": {},
   "source": [
    "# Sentiment Analysis"
   ]
  },
  {
   "cell_type": "code",
   "execution_count": 80,
   "id": "17e791f0",
   "metadata": {},
   "outputs": [
    {
     "name": "stderr",
     "output_type": "stream",
     "text": [
      "[nltk_data] Downloading package vader_lexicon to C:\\Users\\Sayali\n",
      "[nltk_data]     Hatwar\\AppData\\Roaming\\nltk_data...\n",
      "[nltk_data]   Package vader_lexicon is already up-to-date!\n"
     ]
    },
    {
     "data": {
      "text/plain": [
       "True"
      ]
     },
     "execution_count": 80,
     "metadata": {},
     "output_type": "execute_result"
    }
   ],
   "source": [
    "# loading vader_lexicon\n",
    "nltk.download('vader_lexicon')"
   ]
  },
  {
   "cell_type": "code",
   "execution_count": 81,
   "id": "c72d1130",
   "metadata": {},
   "outputs": [],
   "source": [
    "# Applying sentiment intensity analyzer\n",
    "from nltk.sentiment import SentimentIntensityAnalyzer\n",
    "si_obj = SentimentIntensityAnalyzer()"
   ]
  },
  {
   "cell_type": "code",
   "execution_count": 82,
   "id": "8ae8e830",
   "metadata": {},
   "outputs": [],
   "source": [
    "# Function for sentiment score\n",
    "def sentiment_score(text):\n",
    "    score=si_obj.polarity_scores(text)\n",
    "    return score['compound']"
   ]
  },
  {
   "cell_type": "code",
   "execution_count": 83,
   "id": "ed131b72",
   "metadata": {},
   "outputs": [],
   "source": [
    "# applying sentimental score\n",
    "review_df['sentiment_score'] = review_df['Reviews'].apply(lambda x:sentiment_score(x))"
   ]
  },
  {
   "cell_type": "code",
   "execution_count": 84,
   "id": "96d506da",
   "metadata": {},
   "outputs": [
    {
     "data": {
      "text/html": [
       "<div>\n",
       "<style scoped>\n",
       "    .dataframe tbody tr th:only-of-type {\n",
       "        vertical-align: middle;\n",
       "    }\n",
       "\n",
       "    .dataframe tbody tr th {\n",
       "        vertical-align: top;\n",
       "    }\n",
       "\n",
       "    .dataframe thead th {\n",
       "        text-align: right;\n",
       "    }\n",
       "</style>\n",
       "<table border=\"1\" class=\"dataframe\">\n",
       "  <thead>\n",
       "    <tr style=\"text-align: right;\">\n",
       "      <th></th>\n",
       "      <th>Reviews</th>\n",
       "      <th>sentiment_score</th>\n",
       "    </tr>\n",
       "  </thead>\n",
       "  <tbody>\n",
       "    <tr>\n",
       "      <th>0</th>\n",
       "      <td>colour dark shown figur fit also good importantli comfort wear</td>\n",
       "      <td>0.7845</td>\n",
       "    </tr>\n",
       "    <tr>\n",
       "      <th>1</th>\n",
       "      <td>good materi dress shown pictur</td>\n",
       "      <td>0.4404</td>\n",
       "    </tr>\n",
       "    <tr>\n",
       "      <th>2</th>\n",
       "      <td>beauti</td>\n",
       "      <td>0.0000</td>\n",
       "    </tr>\n",
       "    <tr>\n",
       "      <th>3</th>\n",
       "      <td>like product mani time aapki return one come recevi shown site price tag missingi ad photo price tag</td>\n",
       "      <td>0.3612</td>\n",
       "    </tr>\n",
       "    <tr>\n",
       "      <th>4</th>\n",
       "      <td>comfort feed look classi</td>\n",
       "      <td>0.3612</td>\n",
       "    </tr>\n",
       "  </tbody>\n",
       "</table>\n",
       "</div>"
      ],
      "text/plain": [
       "                                                                                                Reviews  \\\n",
       "0                                        colour dark shown figur fit also good importantli comfort wear   \n",
       "1                                                                        good materi dress shown pictur   \n",
       "2                                                                                                beauti   \n",
       "3  like product mani time aapki return one come recevi shown site price tag missingi ad photo price tag   \n",
       "4                                                                              comfort feed look classi   \n",
       "\n",
       "   sentiment_score  \n",
       "0           0.7845  \n",
       "1           0.4404  \n",
       "2           0.0000  \n",
       "3           0.3612  \n",
       "4           0.3612  "
      ]
     },
     "execution_count": 84,
     "metadata": {},
     "output_type": "execute_result"
    }
   ],
   "source": [
    "# new column with sentiment score\n",
    "pd.set_option('max_colwidth', 500)\n",
    "review_df.head()"
   ]
  },
  {
   "cell_type": "code",
   "execution_count": 85,
   "id": "cbcdc389",
   "metadata": {},
   "outputs": [],
   "source": [
    "# Function for sentiment category\n",
    "def sentiment_category(score1):\n",
    "    if(score1 > 0.4):\n",
    "        return 'Positive'\n",
    "    elif(score1 < .1):\n",
    "        return 'Negative'\n",
    "    else:\n",
    "        return 'Neutral'"
   ]
  },
  {
   "cell_type": "code",
   "execution_count": 86,
   "id": "b136d681",
   "metadata": {},
   "outputs": [],
   "source": [
    "# Applying sentiment category\n",
    "review_df['sentiment'] = review_df['sentiment_score'].apply(lambda x:sentiment_category(x))"
   ]
  },
  {
   "cell_type": "code",
   "execution_count": 87,
   "id": "e6f883c7",
   "metadata": {},
   "outputs": [
    {
     "data": {
      "text/html": [
       "<div>\n",
       "<style scoped>\n",
       "    .dataframe tbody tr th:only-of-type {\n",
       "        vertical-align: middle;\n",
       "    }\n",
       "\n",
       "    .dataframe tbody tr th {\n",
       "        vertical-align: top;\n",
       "    }\n",
       "\n",
       "    .dataframe thead th {\n",
       "        text-align: right;\n",
       "    }\n",
       "</style>\n",
       "<table border=\"1\" class=\"dataframe\">\n",
       "  <thead>\n",
       "    <tr style=\"text-align: right;\">\n",
       "      <th></th>\n",
       "      <th>Reviews</th>\n",
       "      <th>sentiment_score</th>\n",
       "      <th>sentiment</th>\n",
       "    </tr>\n",
       "  </thead>\n",
       "  <tbody>\n",
       "    <tr>\n",
       "      <th>0</th>\n",
       "      <td>colour dark shown figur fit also good importantli comfort wear</td>\n",
       "      <td>0.7845</td>\n",
       "      <td>Positive</td>\n",
       "    </tr>\n",
       "    <tr>\n",
       "      <th>1</th>\n",
       "      <td>good materi dress shown pictur</td>\n",
       "      <td>0.4404</td>\n",
       "      <td>Positive</td>\n",
       "    </tr>\n",
       "    <tr>\n",
       "      <th>2</th>\n",
       "      <td>beauti</td>\n",
       "      <td>0.0000</td>\n",
       "      <td>Negative</td>\n",
       "    </tr>\n",
       "    <tr>\n",
       "      <th>3</th>\n",
       "      <td>like product mani time aapki return one come recevi shown site price tag missingi ad photo price tag</td>\n",
       "      <td>0.3612</td>\n",
       "      <td>Neutral</td>\n",
       "    </tr>\n",
       "    <tr>\n",
       "      <th>4</th>\n",
       "      <td>comfort feed look classi</td>\n",
       "      <td>0.3612</td>\n",
       "      <td>Neutral</td>\n",
       "    </tr>\n",
       "    <tr>\n",
       "      <th>5</th>\n",
       "      <td>materi dress good qualiti design also good bought pregnanc period shall use matern dress also</td>\n",
       "      <td>0.7003</td>\n",
       "      <td>Positive</td>\n",
       "    </tr>\n",
       "    <tr>\n",
       "      <th>6</th>\n",
       "      <td>rest dress fine fit okay side pocket promis photo miss definit wont buy vendor</td>\n",
       "      <td>0.5574</td>\n",
       "      <td>Positive</td>\n",
       "    </tr>\n",
       "  </tbody>\n",
       "</table>\n",
       "</div>"
      ],
      "text/plain": [
       "                                                                                                Reviews  \\\n",
       "0                                        colour dark shown figur fit also good importantli comfort wear   \n",
       "1                                                                        good materi dress shown pictur   \n",
       "2                                                                                                beauti   \n",
       "3  like product mani time aapki return one come recevi shown site price tag missingi ad photo price tag   \n",
       "4                                                                              comfort feed look classi   \n",
       "5         materi dress good qualiti design also good bought pregnanc period shall use matern dress also   \n",
       "6                        rest dress fine fit okay side pocket promis photo miss definit wont buy vendor   \n",
       "\n",
       "   sentiment_score sentiment  \n",
       "0           0.7845  Positive  \n",
       "1           0.4404  Positive  \n",
       "2           0.0000  Negative  \n",
       "3           0.3612   Neutral  \n",
       "4           0.3612   Neutral  \n",
       "5           0.7003  Positive  \n",
       "6           0.5574  Positive  "
      ]
     },
     "execution_count": 87,
     "metadata": {},
     "output_type": "execute_result"
    }
   ],
   "source": [
    "review_df"
   ]
  },
  {
   "cell_type": "code",
   "execution_count": 88,
   "id": "a4685a88",
   "metadata": {},
   "outputs": [
    {
     "data": {
      "text/plain": [
       "<AxesSubplot:xlabel='sentiment', ylabel='count'>"
      ]
     },
     "execution_count": 88,
     "metadata": {},
     "output_type": "execute_result"
    },
    {
     "data": {
      "image/png": "[encoded data removed]",
      "text/plain": [
       "<Figure size 432x288 with 1 Axes>"
      ]
     },
     "metadata": {
      "needs_background": "light"
     },
     "output_type": "display_data"
    }
   ],
   "source": [
    "# Plotting countplot for sentiment\n",
    "sns.countplot(x=review_df['sentiment'])"
   ]
  }
 ],
 "metadata": {
  "kernelspec": {
   "display_name": "Python 3 (ipykernel)",
   "language": "python",
   "name": "python3"
  },
  "language_info": {
   "codemirror_mode": {
    "name": "ipython",
    "version": 3
   },
   "file_extension": ".py",
   "mimetype": "text/x-python",
   "name": "python",
   "nbconvert_exporter": "python",
   "pygments_lexer": "ipython3",
   "version": "3.9.12"
  }
 },
 "nbformat": 4,
 "nbformat_minor": 5
}
